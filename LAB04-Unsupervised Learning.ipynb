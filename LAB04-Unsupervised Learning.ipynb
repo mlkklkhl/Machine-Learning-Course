{
 "cells": [
  {
   "cell_type": "markdown",
   "source": [
    "# Unsupervised Learning"
   ],
   "metadata": {
    "collapsed": false
   },
   "id": "d4d8ffd0a8f04894"
  },
  {
   "cell_type": "code",
   "execution_count": null,
   "id": "initial_id",
   "metadata": {
    "collapsed": true
   },
   "outputs": [],
   "source": [
    "import pandas as pd\n",
    "from sklearn.metrics import adjusted_mutual_info_score\n",
    "from sklearn.metrics import silhouette_score\n",
    "import matplotlib.pyplot as plt\n",
    "\n",
    "# Load dataset\n",
    "df = pd.read_csv('data/wine-clustering.csv')\n",
    "print(df.head().to_string())\n",
    "\n",
    "# Check data description\n",
    "print(df.describe(include='all').to_string())\n",
    "\n",
    "# Standardizing the features\n",
    "from sklearn.preprocessing import StandardScaler\n",
    "scaler = StandardScaler()\n",
    "df_scaled = scaler.fit_transform(df)\n",
    "\n",
    "# Visualize the data using scatter plot Flavanoids vs Alcohol\n",
    "plt.scatter(df['Alcohol'], df['Flavanoids'])\n",
    "plt.xlabel('Alcohol')\n",
    "plt.ylabel('Flavanoids')\n",
    "plt.title('Flavanoids vs Alcohol')\n",
    "plt.show()"
   ]
  },
  {
   "cell_type": "markdown",
   "source": [
    "## K-Means Clustering"
   ],
   "metadata": {
    "collapsed": false
   },
   "id": "3f7da4bef297331c"
  },
  {
   "cell_type": "code",
   "outputs": [],
   "source": [
    "# K-means clustering\n",
    "from sklearn.cluster import KMeans\n",
    "\n",
    "# Create a KMeans model with 3 clusters\n",
    "kmeans = KMeans(n_clusters=3, random_state=0)\n",
    "kmeans.fit(df_scaled)\n",
    "\n",
    "# Assume the k-means labels are the original labels or the ground truth\n",
    "labels = kmeans.predict(df_scaled)\n",
    "\n",
    "# assign the cluster labels to the original dataframe\n",
    "df_kmeans = df.copy()\n",
    "df_kmeans['cluster'] = kmeans.labels_\n",
    "\n",
    "# Evaluate the model using Adjusted Mutual Information\n",
    "mi = adjusted_mutual_info_score(df_kmeans['cluster'], labels)\n",
    "print('K-means Clustering: Mutual Information:', mi)\n",
    "# Evaluate the model using Silhouette Score\n",
    "silhouette = silhouette_score(df_scaled, kmeans.labels_)\n",
    "print('K-means Clustering: Silhouette Score:', silhouette)\n",
    "\n",
    "# Visualize the clustering result\n",
    "plt.scatter(df_kmeans['Alcohol'], df_kmeans['Flavanoids'], c=df_kmeans['cluster'], cmap='viridis')\n",
    "plt.xlabel('Alcohol')\n",
    "plt.ylabel('Flavanoids')\n",
    "plt.title('K-means Clustering with 3 clusters')\n",
    "plt.show()"
   ],
   "metadata": {
    "collapsed": false
   },
   "id": "e44d9afd86f7616d"
  },
  {
   "cell_type": "markdown",
   "source": [
    "## Hierarchical Clustering  "
   ],
   "metadata": {
    "collapsed": false
   },
   "id": "d37f62a0df905be"
  },
  {
   "cell_type": "code",
   "outputs": [],
   "source": [
    "# Hierarchical clustering\n",
    "from sklearn.cluster import AgglomerativeClustering\n",
    "\n",
    "# Create an AgglomerativeClustering model with 3 clusters\n",
    "agg = AgglomerativeClustering(n_clusters=3)\n",
    "agg.fit(df_scaled)\n",
    "\n",
    "# assign the cluster labels to the original dataframe\n",
    "df_hiera = df.copy()\n",
    "df_hiera['cluster'] = agg.labels_\n",
    "\n",
    "# Evaluate the model using Mutual Information\n",
    "mi = adjusted_mutual_info_score(df_hiera['cluster'], labels)\n",
    "print('Hierarchical Clustering compared to k-means labels: Mutual Information:', mi)\n",
    "# Evaluate the model using Silhouette Score\n",
    "silhouette = silhouette_score(df_scaled, agg.labels_)\n",
    "print('Hierarchical Clustering: Silhouette Score:', silhouette)\n",
    "\n",
    "# Visualize the clustering result\n",
    "plt.scatter(df_hiera['Alcohol'], df_hiera['Flavanoids'], c=df_hiera['cluster'], cmap='viridis')\n",
    "plt.xlabel('Alcohol')\n",
    "plt.ylabel('Flavanoids')\n",
    "plt.title('Hierarchical Clustering with 3 clusters')\n",
    "plt.show()"
   ],
   "metadata": {
    "collapsed": false
   },
   "id": "15047dd0497459ef"
  },
  {
   "cell_type": "markdown",
   "source": [
    "## DBSCAN Clustering"
   ],
   "metadata": {
    "collapsed": false
   },
   "id": "ecda6e2cea6807f9"
  },
  {
   "cell_type": "code",
   "outputs": [],
   "source": [
    "# DBSCAN clustering\n",
    "from sklearn.cluster import DBSCAN\n",
    "\n",
    "# Create a DBSCAN model\n",
    "dbscan = DBSCAN(eps=0.5, min_samples=5)\n",
    "dbscan.fit(df_scaled)\n",
    "\n",
    "# assign the cluster labels to the original dataframe\n",
    "df_dbscan = df.copy()\n",
    "df_dbscan['cluster'] = dbscan.labels_\n",
    "\n",
    "# Evaluate the model using Mutual Information\n",
    "mi = adjusted_mutual_info_score(df_dbscan['cluster'], labels)\n",
    "print('DBSCAN Clustering compared to k-means labels: Mutual Information:', mi)\n",
    "# Evaluate the model using Silhouette Score\n",
    "silhouette = silhouette_score(df_scaled, dbscan.labels_) # DBSCAN provides just 1 cluster, raise error\n",
    "print('DBSCAN Clustering: Silhouette Score:', silhouette)\n",
    "\n",
    "# Visualize the clustering result\n",
    "plt.scatter(df_dbscan['Alcohol'], df_dbscan['Flavanoids'], c=df_dbscan['cluster'], cmap='viridis')\n",
    "plt.xlabel('Alcohol')\n",
    "plt.ylabel('Flavanoids')\n",
    "plt.title('DBSCAN Clustering')\n",
    "plt.show()"
   ],
   "metadata": {
    "collapsed": false
   },
   "id": "c93e9f503e24e10f"
  },
  {
   "cell_type": "markdown",
   "source": [
    "# # Aprori Algorithm for Association Problem"
   ],
   "metadata": {
    "collapsed": false
   },
   "id": "d41bf69b314aa7ab"
  },
  {
   "cell_type": "code",
   "outputs": [],
   "source": [
    "# # Apriori Algorithm\n",
    "import pandas as pd\n",
    "from mlxtend.frequent_patterns import apriori\n",
    "from mlxtend.frequent_patterns import association_rules\n",
    "\n",
    "# Load dataset\n",
    "df_rating = pd.read_csv('data/ratings_small.csv')\n",
    "df_movies = pd.read_csv('data/movies_metadata.csv')\n",
    "\n",
    "print(df_rating.head().to_string())\n",
    "print(df_movies.head().to_string())\n",
    "\n",
    "# Check data description\n",
    "print(df_rating.describe(include='all').to_string())\n",
    "print(df_movies.describe(include='all').to_string())\n",
    "\n",
    "# Clean and Merge the Data\n",
    "title_mask = df_movies['title'].isna()\n",
    "movies_df = df_movies.loc[title_mask == False]\n",
    "movies_df = movies_df.astype({'id': 'int64'})\n",
    "df = pd.merge(df_rating, movies_df[['id', 'title']], left_on='movieId', right_on='id')\n",
    "df.drop(['timestamp', 'id'], axis=1, inplace=True)\n",
    "df = df.drop_duplicates(['userId','title'])\n",
    "\n",
    "print(df.head().to_string())\n",
    "\n",
    "# Transform data into Apriori required format\n",
    "df_pivot = df.pivot(index='userId', columns='title', values='rating').fillna(0)\n",
    "# the pivot table is in the form of user vs movie rating (we will recommend if the rating is >= 3)\n",
    "df_pivot = df_pivot.applymap(lambda x: 1 if x >= 3 else 0)\n",
    "print(df_pivot.head().to_string())\n",
    "\n",
    "# Apriori Algorithm\n",
    "frequent_itemsets = apriori(df_pivot, min_support=0.1, use_colnames=True)\n",
    "rules = association_rules(frequent_itemsets, metric='confidence', min_threshold=0.5)\n",
    "\n",
    "# order frequent itemsets by support\n",
    "frequent_itemsets = frequent_itemsets.sort_values(by='support', ascending=False)\n",
    "print(frequent_itemsets.head().to_string())\n",
    "\n",
    "# order rules by support\n",
    "rules = rules.sort_values(by='support', ascending=False)\n",
    "print(rules.head().to_string())"
   ],
   "metadata": {
    "collapsed": false
   },
   "id": "9865b709a8d3c4af"
  }
 ],
 "metadata": {
  "kernelspec": {
   "display_name": "Python 3",
   "language": "python",
   "name": "python3"
  },
  "language_info": {
   "codemirror_mode": {
    "name": "ipython",
    "version": 2
   },
   "file_extension": ".py",
   "mimetype": "text/x-python",
   "name": "python",
   "nbconvert_exporter": "python",
   "pygments_lexer": "ipython2",
   "version": "2.7.6"
  }
 },
 "nbformat": 4,
 "nbformat_minor": 5
}
