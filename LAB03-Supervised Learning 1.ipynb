{
 "cells": [
  {
   "cell_type": "markdown",
   "source": [
    "# Supervised Learning\n",
    "- Linear Regression\n",
    "- Nonlinear Regression"
   ],
   "metadata": {
    "collapsed": false
   },
   "id": "bd3f75048b631126"
  },
  {
   "cell_type": "code",
   "execution_count": 1,
   "id": "initial_id",
   "metadata": {
    "collapsed": true,
    "ExecuteTime": {
     "end_time": "2024-05-06T05:36:43.108146Z",
     "start_time": "2024-05-06T05:36:42.733530Z"
    }
   },
   "outputs": [
    {
     "name": "stdout",
     "output_type": "stream",
     "text": [
      "          X         y\n",
      "0  0.000000  2.754932\n",
      "1  0.101010  1.267315\n",
      "2  0.202020 -1.797223\n",
      "3  0.303030  3.282525\n",
      "4  0.404040 -0.316798\n",
      "5  0.505051  4.118226\n",
      "6  0.606061  5.480533\n",
      "7  0.707071  2.201469\n",
      "8  0.808081  4.353367\n",
      "9  0.909091  2.245420\n"
     ]
    },
    {
     "data": {
      "text/plain": "<Figure size 640x480 with 1 Axes>",
      "image/png": "[encoded data removed]"
     },
     "metadata": {},
     "output_type": "display_data"
    }
   ],
   "source": [
    "# Linear Regression\n",
    "import numpy as np\n",
    "import pandas as pd\n",
    "from sklearn.linear_model import LinearRegression\n",
    "import matplotlib.pyplot as plt\n",
    "\n",
    "# Create a dummy linear dataset with 100 data points\n",
    "X = np.linspace(0, 10, 100)\n",
    "y = 2 * X + 1 + np.random.randn(100) * 2\n",
    "X = X.reshape(-1, 1)\n",
    "\n",
    "df = pd.DataFrame({'X': X.flatten(), 'y': y})\n",
    "print(df.head(10))\n",
    "\n",
    "# plot the data\n",
    "plt.scatter(X, y)\n",
    "plt.title(\"Data\")\n",
    "plt.show()"
   ]
  },
  {
   "cell_type": "code",
   "outputs": [],
   "source": [
    "# Create a linear regression model\n",
    "model = LinearRegression()\n",
    "\n",
    "# Fit the model to the data\n",
    "model.fit(X, y)\n",
    "# Get the slope and intercept of the line best fit\n",
    "print(\"Model coefficient:\", model.coef_, \"\\n\")\n",
    "print(\"Model intercept:\", model.intercept_, \"\\n\")\n",
    "\n",
    "# plot the data and the best fit line\n",
    "plt.scatter(X, y)\n",
    "plt.plot(X, model.predict(X), color='red')\n",
    "plt.legend(['Labeled Data', 'Best fit line'])\n",
    "plt.xlabel(\"X\")\n",
    "plt.ylabel(\"y\")\n",
    "plt.title(\"Linear Regression with best fit line\")\n",
    "plt.show()\n"
   ],
   "metadata": {
    "collapsed": false
   },
   "id": "4e3d2f738ea8f789"
  },
  {
   "cell_type": "code",
   "outputs": [],
   "source": [
    "# Predict the response for a new data point\n",
    "X_new = np.array([[7.82]])\n",
    "y_pred = model.predict(X_new)\n",
    "\n",
    "print(\"Predicted response for X_new:\", round(y_pred.item(), 2))\n",
    "\n",
    "# plot the data and the best fit line and the new data point\n",
    "plt.scatter(X, y)\n",
    "plt.plot(X, model.predict(X), color='red',)\n",
    "plt.scatter(X_new, y_pred, color='red', marker='x')\n",
    "plt.legend(['Labeled Data', 'Best fit line', 'New data point'])\n",
    "plt.text(X_new - 1.5, y_pred + 2,\n",
    "         round(y_pred.item(), 2), fontsize=12, color='red')\n",
    "plt.xlabel(\"X\")\n",
    "plt.ylabel(\"y\")\n",
    "plt.title(\"Linear Regression with best fit line and new data point\")\n",
    "plt.show()"
   ],
   "metadata": {
    "collapsed": false
   },
   "id": "a2b85ef7d7d2f275"
  },
  {
   "cell_type": "markdown",
   "source": [
    "# Nonlinear Regression"
   ],
   "metadata": {
    "collapsed": false
   },
   "id": "d2788f9e7889334c"
  },
  {
   "cell_type": "code",
   "outputs": [],
   "source": [
    "import numpy as np\n",
    "import matplotlib.pyplot as plt\n",
    "from sklearn.linear_model import LinearRegression\n",
    "from sklearn.preprocessing import PolynomialFeatures\n",
    "\n",
    "# Create a dummy dataset with 100 data points with polynomial shape\n",
    "X = np.linspace(-5, 5, 100)\n",
    "y = X ** 3 + np.random.randn(100) * 5\n",
    "X = X.reshape(-1, 1)\n",
    "\n",
    "plt.scatter(X, y)\n",
    "plt.xlabel(\"X\")\n",
    "plt.ylabel(\"y\")\n",
    "plt.title(\"Data\")\n",
    "plt.show()\n",
    "\n",
    "# 1: Determining the degree of the polynomial\n",
    "# Create a polynomial feature object with degree 2\n",
    "# y = ß0 + ß1x + ß2x2 + ß3x3\n",
    "poly = PolynomialFeatures(degree=3, include_bias=False)\n",
    "\n",
    "# 2: Creating the new features\n",
    "poly_features = poly.fit_transform(X.reshape(-1, 1))\n",
    "print(\"Original features:\", X[:5], \"\\n\")\n",
    "print(\"New features:\", poly_features[:5], \"\\n\")\n",
    "\n",
    "# 3: Creating the polynomial regression model\n",
    "poly_reg_model = LinearRegression()\n",
    "poly_reg_model.fit(poly_features, y)\n",
    "\n",
    "# # Get the slope and intercept of the line best fit\n",
    "print(\"Model coefficient:\", poly_reg_model.coef_, \"\\n\")\n",
    "print(\"Model intercept:\", poly_reg_model.intercept_, \"\\n\")\n",
    "\n",
    "# # Get y_pred\n",
    "y_pred = poly_reg_model.predict(poly_features)\n",
    "\n",
    "# # plot the data and the best fit line\n",
    "plt.scatter(X, y)\n",
    "plt.plot(X, y_pred, color='red')\n",
    "plt.legend(['Labeled Data', 'Best fit line'])\n",
    "plt.xlabel(\"X\")\n",
    "plt.ylabel(\"y\")\n",
    "plt.title(\"Polynomial Regression with best fit line\")\n",
    "plt.show()\n",
    "\n",
    "# # Predict the response for a new data point\n",
    "X_new = np.array([[7.08]])\n",
    "X_new_transformed = poly.fit_transform(X_new.reshape(-1, 1))\n",
    "y_new_pred = poly_reg_model.predict(X_new_transformed)\n",
    "\n",
    "print(\"Predicted response for X_new:\", round(y_new_pred.item(), 2))\n",
    "\n",
    "# # plot the data and the best fit line and the new data point\n",
    "plt.scatter(X, y)\n",
    "plt.plot(X, y_pred, color='red',)\n",
    "plt.scatter(X_new, y_new_pred, color='red', marker='x')\n",
    "plt.legend(['Labeled Data', 'Best fit line', 'New data point'])\n",
    "plt.text(X_new - 2, y_new_pred + 2.5,\n",
    "         round(y_new_pred.item(), 2), fontsize=12, color='red')\n",
    "plt.xlabel(\"X\")\n",
    "plt.ylabel(\"y\")\n",
    "plt.title(\"Polynomial Regression with X = 7.08\")\n",
    "plt.show()"
   ],
   "metadata": {
    "collapsed": false
   },
   "id": "36a6f81b10d945a4"
  },
  {
   "cell_type": "markdown",
   "source": [
    "# # A polynomial regression model with multiple features"
   ],
   "metadata": {
    "collapsed": false
   },
   "id": "fcf25eb61b4f77b0"
  },
  {
   "cell_type": "code",
   "outputs": [],
   "source": [
    "import numpy as np\n",
    "import pandas as pd\n",
    "import matplotlib.pyplot as plt\n",
    "from sklearn.linear_model import LinearRegression\n",
    "from sklearn.preprocessing import PolynomialFeatures\n",
    "\n",
    "np.random.seed(1)\n",
    "x_1 = np.absolute(np.random.randn(100, 1) * 10)\n",
    "x_2 = np.absolute(np.random.randn(100, 1) * 30)\n",
    "y = 2 * x_1 ** 2 + 3 * x_1 + 2 + np.random.randn(100, 1) * 20\n",
    "\n",
    "# 1: Storing the variables in a dataframe\n",
    "df = pd.DataFrame({'x_1': x_1.flatten(), 'x_2': x_2.flatten(), 'y': y.flatten()})\n",
    "print(df.head(10))\n",
    "\n",
    "# 2: Creating the new features\n",
    "X, y = df[[\"x_1\", \"x_2\"]], df[\"y\"]\n",
    "poly_features = poly.fit_transform(X)\n",
    "print(\"Original features:\", X[:5], \"\\n\")\n",
    "print(\"New features:\", poly_features[:5], \"\\n\")\n",
    "\n",
    "# 3: Creating the polynomial regression model\n",
    "poly_reg_model = LinearRegression()\n",
    "poly_reg_model.fit(poly_features, y)\n",
    "\n",
    "# Get the order of features to understand the polynomial regression\n",
    "print(\"Feature ordering:\", poly.get_feature_names_out())\n",
    "\n",
    "# # Get the slope and intercept of the line best fit\n",
    "print(\"Model coefficient:\", poly_reg_model.coef_,)\n",
    "print(\"Model intercept:\", poly_reg_model.intercept_, \"\\n\")\n",
    "\n",
    "# # Get y_pred\n",
    "y_pred = poly_reg_model.predict(poly_features)\n",
    "\n",
    "from sklearn.metrics import r2_score\n",
    "poly_reg_r2 = r2_score(y, y_pred)\n",
    "print(\"R Squared Error:\", poly_reg_r2)"
   ],
   "metadata": {
    "collapsed": false
   },
   "id": "f8a81cbc3bef42aa"
  }
 ],
 "metadata": {
  "kernelspec": {
   "display_name": "Python 3",
   "language": "python",
   "name": "python3"
  },
  "language_info": {
   "codemirror_mode": {
    "name": "ipython",
    "version": 2
   },
   "file_extension": ".py",
   "mimetype": "text/x-python",
   "name": "python",
   "nbconvert_exporter": "python",
   "pygments_lexer": "ipython2",
   "version": "2.7.6"
  }
 },
 "nbformat": 4,
 "nbformat_minor": 5
}
