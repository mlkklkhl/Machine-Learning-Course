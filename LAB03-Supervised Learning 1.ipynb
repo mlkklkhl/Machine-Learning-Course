{
 "cells": [
  {
   "cell_type": "markdown",
   "source": [
    "# Supervised Learning\n",
    "- Linear Regression\n",
    "- Nonlinear Regression"
   ],
   "metadata": {
    "collapsed": false
   },
   "id": "bd3f75048b631126"
  },
  {
   "metadata": {},
   "cell_type": "markdown",
   "source": "## Linear Regression",
   "id": "e34f96e49ded6229"
  },
  {
   "cell_type": "code",
   "id": "initial_id",
   "metadata": {
    "collapsed": true
   },
   "source": [
    "# Linear Regression\n",
    "import numpy as np\n",
    "import pandas as pd\n",
    "from sklearn.linear_model import LinearRegression\n",
    "import matplotlib.pyplot as plt\n",
    "\n",
    "# Create a dummy linear dataset with 100 data points\n",
    "X = np.linspace(0, 10, 100)\n",
    "y = 2 * X + 1 + np.random.randn(100) * 2\n",
    "X = X.reshape(-1, 1)\n",
    "\n",
    "df = pd.DataFrame({'X': X.flatten(), 'y': y})\n",
    "print(df.head(10))\n",
    "\n",
    "# plot the data\n",
    "plt.scatter(X, y)\n",
    "plt.title(\"Data\")\n",
    "plt.show()"
   ],
   "outputs": [],
   "execution_count": null
  },
  {
   "cell_type": "code",
   "source": [
    "# Create a linear regression model\n",
    "model = LinearRegression()\n",
    "\n",
    "# Fit the model to the data\n",
    "model.fit(X, y)\n",
    "# Get the slope and intercept of the line best fit\n",
    "print(\"Model coefficient:\", model.coef_, \"\\n\")\n",
    "print(\"Model intercept:\", model.intercept_, \"\\n\")\n",
    "\n",
    "# plot the data and the best fit line\n",
    "plt.scatter(X, y)\n",
    "plt.plot(X, model.predict(X), color='red')\n",
    "plt.legend(['Labeled Data', 'Best fit line'])\n",
    "plt.xlabel(\"X\")\n",
    "plt.ylabel(\"y\")\n",
    "plt.title(\"Linear Regression with best fit line\")\n",
    "plt.show()\n"
   ],
   "metadata": {
    "collapsed": false
   },
   "id": "4e3d2f738ea8f789",
   "outputs": [],
   "execution_count": null
  },
  {
   "cell_type": "code",
   "source": [
    "# Predict the response for a new data point\n",
    "X_new = np.array([[7.82]])\n",
    "y_pred = model.predict(X_new)\n",
    "\n",
    "print(\"Predicted response for X_new:\", round(y_pred.item(), 2))\n",
    "\n",
    "# plot the data and the best fit line and the new data point\n",
    "plt.scatter(X, y)\n",
    "plt.plot(X, model.predict(X), color='red',)\n",
    "plt.scatter(X_new, y_pred, color='red', marker='x')\n",
    "plt.legend(['Labeled Data', 'Best fit line', 'New data point'])\n",
    "plt.text(X_new - 1.5, y_pred + 2,\n",
    "         round(y_pred.item(), 2), fontsize=12, color='red')\n",
    "plt.xlabel(\"X\")\n",
    "plt.ylabel(\"y\")\n",
    "plt.title(\"Linear Regression with best fit line and new data point\")\n",
    "plt.show()"
   ],
   "metadata": {
    "collapsed": false
   },
   "id": "a2b85ef7d7d2f275",
   "outputs": [],
   "execution_count": null
  },
  {
   "cell_type": "markdown",
   "source": [
    "# Nonlinear Regression"
   ],
   "metadata": {
    "collapsed": false
   },
   "id": "d2788f9e7889334c"
  },
  {
   "cell_type": "code",
   "source": [
    "import numpy as np\n",
    "import matplotlib.pyplot as plt\n",
    "from sklearn.linear_model import LinearRegression\n",
    "from sklearn.preprocessing import PolynomialFeatures\n",
    "\n",
    "# Create a dummy dataset with 100 data points with polynomial shape\n",
    "X = np.linspace(-5, 5, 100)\n",
    "y = X ** 3 + np.random.randn(100) * 5\n",
    "X = X.reshape(-1, 1)\n",
    "\n",
    "plt.scatter(X, y)\n",
    "plt.xlabel(\"X\")\n",
    "plt.ylabel(\"y\")\n",
    "plt.title(\"Data\")\n",
    "plt.show()"
   ],
   "metadata": {
    "collapsed": false
   },
   "id": "36a6f81b10d945a4",
   "outputs": [],
   "execution_count": null
  },
  {
   "metadata": {},
   "cell_type": "code",
   "source": [
    "# 1: Determining the degree of the polynomial\n",
    "# Create a polynomial feature object with degree 2\n",
    "# y = ß0 + ß1x + ß2x2 + ß3x3\n",
    "poly = PolynomialFeatures(degree=3, include_bias=False)\n",
    "\n",
    "# 2: Creating the new features\n",
    "poly_features = poly.fit_transform(X.reshape(-1, 1))\n",
    "print(\"Original features:\", X[:5], \"\\n\")\n",
    "print(\"New features:\", poly_features[:5], \"\\n\")"
   ],
   "id": "ac3ad5d0f3d03b6c",
   "outputs": [],
   "execution_count": null
  },
  {
   "metadata": {},
   "cell_type": "code",
   "source": [
    "# 3: Creating the polynomial regression model\n",
    "poly_reg_model = LinearRegression()\n",
    "poly_reg_model.fit(poly_features, y)\n",
    "\n",
    "# # Get the slope and intercept of the line best fit\n",
    "print(\"Model coefficient:\", poly_reg_model.coef_, \"\\n\")\n",
    "print(\"Model intercept:\", poly_reg_model.intercept_, \"\\n\")"
   ],
   "id": "22a60622a0968cff",
   "outputs": [],
   "execution_count": null
  },
  {
   "metadata": {},
   "cell_type": "code",
   "source": [
    "# # Get y_pred\n",
    "y_pred = poly_reg_model.predict(poly_features)\n",
    "\n",
    "# # plot the data and the best fit line\n",
    "plt.scatter(X, y)\n",
    "plt.plot(X, y_pred, color='red')\n",
    "plt.legend(['Labeled Data', 'Best fit line'])\n",
    "plt.xlabel(\"X\")\n",
    "plt.ylabel(\"y\")\n",
    "plt.title(\"Polynomial Regression with best fit line\")\n",
    "plt.show()"
   ],
   "id": "51b635e9cbec51f1",
   "outputs": [],
   "execution_count": null
  },
  {
   "metadata": {},
   "cell_type": "code",
   "source": [
    "# # Predict the response for a new data point\n",
    "X_new = np.array([[7.08]])\n",
    "X_new_transformed = poly.fit_transform(X_new.reshape(-1, 1))\n",
    "y_new_pred = poly_reg_model.predict(X_new_transformed)\n",
    "\n",
    "print(\"Predicted response for X_new:\", round(y_new_pred.item(), 2))"
   ],
   "id": "e7b0e60ce20f71e",
   "outputs": [],
   "execution_count": null
  },
  {
   "metadata": {},
   "cell_type": "code",
   "source": [
    "# # plot the data and the best fit line and the new data point\n",
    "plt.scatter(X, y)\n",
    "plt.plot(X, y_pred, color='red',)\n",
    "plt.scatter(X_new, y_new_pred, color='red', marker='x')\n",
    "plt.legend(['Labeled Data', 'Best fit line', 'New data point'])\n",
    "plt.text(X_new - 2, y_new_pred + 2.5,\n",
    "         round(y_new_pred.item(), 2), fontsize=12, color='red')\n",
    "plt.xlabel(\"X\")\n",
    "plt.ylabel(\"y\")\n",
    "plt.title(\"Polynomial Regression with X = 7.08\")\n",
    "plt.show()"
   ],
   "id": "5de80a59d8e40020",
   "outputs": [],
   "execution_count": null
  },
  {
   "cell_type": "markdown",
   "source": [
    "# # A polynomial regression model with multiple features"
   ],
   "metadata": {
    "collapsed": false
   },
   "id": "fcf25eb61b4f77b0"
  },
  {
   "cell_type": "code",
   "source": [
    "import numpy as np\n",
    "import pandas as pd\n",
    "import matplotlib.pyplot as plt\n",
    "from sklearn.linear_model import LinearRegression\n",
    "from sklearn.preprocessing import PolynomialFeatures\n",
    "\n",
    "np.random.seed(1)\n",
    "x_1 = np.absolute(np.random.randn(100, 1) * 10)\n",
    "x_2 = np.absolute(np.random.randn(100, 1) * 30)\n",
    "y = 2 * x_1 ** 2 + 3 * x_1 + 2 + np.random.randn(100, 1) * 20"
   ],
   "metadata": {
    "collapsed": false
   },
   "id": "f8a81cbc3bef42aa",
   "outputs": [],
   "execution_count": null
  },
  {
   "metadata": {},
   "cell_type": "code",
   "source": [
    "# 1: Storing the variables in a dataframe\n",
    "df = pd.DataFrame({'x_1': x_1.flatten(), 'x_2': x_2.flatten(), 'y': y.flatten()})\n",
    "print(df.head(10))"
   ],
   "id": "319844b2d4b386f9",
   "outputs": [],
   "execution_count": null
  },
  {
   "metadata": {},
   "cell_type": "code",
   "source": [
    "# 2: Creating the new features\n",
    "X, y = df[[\"x_1\", \"x_2\"]], df[\"y\"]\n",
    "poly_features = poly.fit_transform(X)\n",
    "print(\"Original features:\", X[:5], \"\\n\")\n",
    "print(\"New features:\", poly_features[:5], \"\\n\")"
   ],
   "id": "bead9f3c4688cd1",
   "outputs": [],
   "execution_count": null
  },
  {
   "metadata": {},
   "cell_type": "code",
   "source": [
    "# 3: Creating the polynomial regression model\n",
    "poly_reg_model = LinearRegression()\n",
    "poly_reg_model.fit(poly_features, y)"
   ],
   "id": "5d0af25721609ace",
   "outputs": [],
   "execution_count": null
  },
  {
   "metadata": {},
   "cell_type": "code",
   "source": [
    "# Get the order of features to understand the polynomial regression\n",
    "print(\"Feature ordering:\", poly.get_feature_names_out())\n",
    "\n",
    "# # Get the slope and intercept of the line best fit\n",
    "print(\"Model coefficient:\", poly_reg_model.coef_,)\n",
    "print(\"Model intercept:\", poly_reg_model.intercept_, \"\\n\")"
   ],
   "id": "449a972822afabd5",
   "outputs": [],
   "execution_count": null
  },
  {
   "metadata": {},
   "cell_type": "code",
   "source": [
    "# # Get y_pred\n",
    "y_pred = poly_reg_model.predict(poly_features)\n",
    "\n",
    "from sklearn.metrics import r2_score\n",
    "poly_reg_r2 = r2_score(y, y_pred)\n",
    "print(\"R Squared Error:\", poly_reg_r2)"
   ],
   "id": "ebeba75cce06e67a",
   "outputs": [],
   "execution_count": null
  },
  {
   "metadata": {},
   "cell_type": "code",
   "source": "",
   "id": "e326b30725bcc325",
   "outputs": [],
   "execution_count": null
  }
 ],
 "metadata": {
  "kernelspec": {
   "display_name": "Python 3",
   "language": "python",
   "name": "python3"
  },
  "language_info": {
   "codemirror_mode": {
    "name": "ipython",
    "version": 2
   },
   "file_extension": ".py",
   "mimetype": "text/x-python",
   "name": "python",
   "nbconvert_exporter": "python",
   "pygments_lexer": "ipython2",
   "version": "2.7.6"
  }
 },
 "nbformat": 4,
 "nbformat_minor": 5
}
