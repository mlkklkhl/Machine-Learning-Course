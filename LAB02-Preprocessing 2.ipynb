{
 "cells": [
  {
   "cell_type": "markdown",
   "source": [
    "# Categorical Data Handling"
   ],
   "metadata": {
    "collapsed": false
   },
   "id": "c3f1d9d5b4862394"
  },
  {
   "cell_type": "code",
   "id": "initial_id",
   "metadata": {
    "collapsed": true,
    "ExecuteTime": {
     "end_time": "2024-06-25T02:14:53.406377Z",
     "start_time": "2024-06-25T02:14:53.376781Z"
    }
   },
   "source": [
    "import pandas as pd\n",
    "import seaborn as sns\n",
    "import matplotlib.pyplot as plt\n",
    "\n",
    "# Load the dataset\n",
    "df = pd.read_csv(\"data/prep-data03.csv\")\n",
    "\n",
    "# Display the categorical data\n",
    "print(df.describe(include='all').to_string(), '\\n')\n",
    "print(df.Raining.unique(), '\\n')\n",
    "print(df.Precipitation.unique(), '\\n')\n",
    "print(df['Weather Condition'].unique(), '\\n')"
   ],
   "outputs": [
    {
     "name": "stdout",
     "output_type": "stream",
     "text": [
      "             Timestamp  Temperature    Humidity    Airflow Raining Precipitation Weather Condition\n",
      "count               67    67.000000   67.000000  67.000000      67            67                67\n",
      "unique              37          NaN         NaN        NaN       2             3                 5\n",
      "top     5/5/2023 12:00          NaN         NaN        NaN      No            No     Partly Cloudy\n",
      "freq                 3          NaN         NaN        NaN      52            47                25\n",
      "mean               NaN    21.570149   68.597015   1.956716     NaN           NaN               NaN\n",
      "std                NaN     3.482468    9.335594   1.311051     NaN           NaN               NaN\n",
      "min                NaN    10.000000   50.000000   0.500000     NaN           NaN               NaN\n",
      "25%                NaN    19.100000   62.000000   1.000000     NaN           NaN               NaN\n",
      "50%                NaN    21.200000   68.000000   1.600000     NaN           NaN               NaN\n",
      "75%                NaN    23.900000   75.000000   2.450000     NaN           NaN               NaN\n",
      "max                NaN    29.500000  100.000000   7.000000     NaN           NaN               NaN \n",
      "\n",
      "['No' 'Yes'] \n",
      "\n",
      "['No' 'Rain' 'Hail'] \n",
      "\n",
      "['Clear' 'Partly Cloudy' 'Cloudy' 'Sunny' 'Light Rain'] \n",
      "\n"
     ]
    }
   ],
   "execution_count": 1
  },
  {
   "metadata": {
    "ExecuteTime": {
     "end_time": "2024-06-25T02:15:04.429045Z",
     "start_time": "2024-06-25T02:15:04.308020Z"
    }
   },
   "cell_type": "code",
   "source": [
    "# Method 1: Label Encoding\n",
    "# Handling Categorical Data using LabelEncoder\n",
    "from sklearn.preprocessing import LabelEncoder\n",
    "label_encoder = LabelEncoder()\n",
    "df[\"Raining\"] = label_encoder.fit_transform(df[\"Raining\"])\n",
    "\n",
    "# Check label mapping (normally with alphabetical order)\n",
    "mapping = dict(zip(label_encoder.classes_, label_encoder.transform(label_encoder.classes_)))\n",
    "print(mapping)\n",
    "print(df.head().to_string(), '\\n')\n",
    "\n",
    "df[\"Weather Condition\"] = label_encoder.fit_transform(df[\"Weather Condition\"])\n",
    "mapping = dict(zip(label_encoder.classes_, label_encoder.transform(label_encoder.classes_)))\n",
    "print(mapping)\n",
    "print(df.head().to_string(), '\\n')"
   ],
   "id": "c61e3a770e05b177",
   "outputs": [
    {
     "name": "stdout",
     "output_type": "stream",
     "text": [
      "{'No': 0, 'Yes': 1}\n",
      "        Timestamp  Temperature  Humidity  Airflow  Raining Precipitation Weather Condition\n",
      "0   5/1/2023 0:00         22.5        65      1.2        0            No             Clear\n",
      "1   5/1/2023 3:00         20.8        70      0.8        1          Rain     Partly Cloudy\n",
      "2   5/1/2023 6:00         19.2        75      1.5        1          Hail            Cloudy\n",
      "3   5/1/2023 9:00         24.1        60      2.1        0            No             Sunny\n",
      "4  5/1/2023 12:00         27.8        55      2.8        0            No             Sunny \n",
      "\n",
      "{'Clear': 0, 'Cloudy': 1, 'Light Rain': 2, 'Partly Cloudy': 3, 'Sunny': 4}\n",
      "        Timestamp  Temperature  Humidity  Airflow  Raining Precipitation  Weather Condition\n",
      "0   5/1/2023 0:00         22.5        65      1.2        0            No                  0\n",
      "1   5/1/2023 3:00         20.8        70      0.8        1          Rain                  3\n",
      "2   5/1/2023 6:00         19.2        75      1.5        1          Hail                  1\n",
      "3   5/1/2023 9:00         24.1        60      2.1        0            No                  4\n",
      "4  5/1/2023 12:00         27.8        55      2.8        0            No                  4 \n",
      "\n"
     ]
    }
   ],
   "execution_count": 2
  },
  {
   "metadata": {
    "ExecuteTime": {
     "end_time": "2024-06-25T02:15:55.337747Z",
     "start_time": "2024-06-25T02:15:55.225986Z"
    }
   },
   "cell_type": "code",
   "source": [
    "# Method 2: One-Hot Encoding\n",
    "# Handling Categorical Data using One-hot Encoder\n",
    "from sklearn.preprocessing import OneHotEncoder\n",
    "one_hot_encoding = OneHotEncoder(sparse_output=False)\n",
    "\n",
    "one_hot_data = one_hot_encoding.fit_transform(df['Precipitation'].to_numpy().reshape(-1, 1))\n",
    "one_hot_df = pd.DataFrame(one_hot_data, columns=one_hot_encoding.get_feature_names_out())\n",
    "\n",
    "df = df.drop('Precipitation', axis=1)\n",
    "df = df.join(one_hot_df)\n",
    "print(df.head().to_string())"
   ],
   "id": "3b5e445a6ddf5e58",
   "outputs": [
    {
     "name": "stdout",
     "output_type": "stream",
     "text": [
      "        Timestamp  Temperature  Humidity  Airflow  Raining  Weather Condition  x0_Hail  x0_No  x0_Rain\n",
      "0   5/1/2023 0:00         22.5        65      1.2        0                  0      0.0    1.0      0.0\n",
      "1   5/1/2023 3:00         20.8        70      0.8        1                  3      0.0    0.0      1.0\n",
      "2   5/1/2023 6:00         19.2        75      1.5        1                  1      1.0    0.0      0.0\n",
      "3   5/1/2023 9:00         24.1        60      2.1        0                  4      0.0    1.0      0.0\n",
      "4  5/1/2023 12:00         27.8        55      2.8        0                  4      0.0    1.0      0.0\n"
     ]
    }
   ],
   "execution_count": 3
  },
  {
   "metadata": {
    "ExecuteTime": {
     "end_time": "2024-06-25T02:15:59.179752Z",
     "start_time": "2024-06-25T02:15:59.103921Z"
    }
   },
   "cell_type": "code",
   "source": [
    "# Save the preprocessed data\n",
    "df.to_csv(\"data/prep-data04.csv\", index=False)"
   ],
   "id": "7113671b05aa5bfc",
   "outputs": [],
   "execution_count": 4
  },
  {
   "cell_type": "markdown",
   "source": [
    "# Feature Scaling"
   ],
   "metadata": {
    "collapsed": false
   },
   "id": "4f93b75d09d330e"
  },
  {
   "cell_type": "code",
   "source": [
    "# Normalization (Min-Max Scaling)\n",
    "import pandas as pd\n",
    "import seaborn as sns\n",
    "import matplotlib.pyplot as plt\n",
    "from sklearn.preprocessing import MinMaxScaler\n",
    "\n",
    "# Load the dataset\n",
    "df = pd.read_csv(\"data/prep-data04.csv\")\n",
    "df.drop('Timestamp', axis=1, inplace=True)\n",
    "\n",
    "# Plot the data scatter plot\n",
    "plt.figure(figsize=(10, 6))\n",
    "sns.scatterplot(x='Temperature', y='Humidity', data=df)\n",
    "plt.title('Temperature vs Humidity')\n",
    "plt.show()\n",
    "\n",
    "# Normalization (Min-Max Scaling)\n",
    "scaler = MinMaxScaler()\n",
    "scaled_data = scaler.fit_transform(df)\n",
    "scaled_df = pd.DataFrame(scaled_data, columns=df.columns)\n",
    "\n",
    "print(scaled_df.head(), '\\n')\n",
    "print(scaled_df.describe(), '\\n')\n",
    "\n",
    "plt.figure(figsize=(10, 6))\n",
    "sns.scatterplot(x='Temperature', y='Humidity', data=scaled_df)\n",
    "plt.title('Temperature vs Humidity after MinMax Scaling')\n",
    "plt.show()"
   ],
   "metadata": {
    "collapsed": false,
    "ExecuteTime": {
     "end_time": "2024-06-25T02:16:14.065760Z",
     "start_time": "2024-06-25T02:16:12.785481Z"
    }
   },
   "id": "a75f83e9072f48a",
   "outputs": [
    {
     "data": {
      "text/plain": [
       "<Figure size 1000x600 with 1 Axes>"
      ],
      "image/png": "[encoded data removed]"
     },
     "metadata": {},
     "output_type": "display_data"
    },
    {
     "name": "stdout",
     "output_type": "stream",
     "text": [
      "   Temperature  Humidity   Airflow  Raining  Weather Condition  x0_Hail  \\\n",
      "0     0.641026       0.3  0.107692      0.0               0.00      0.0   \n",
      "1     0.553846       0.4  0.046154      1.0               0.75      0.0   \n",
      "2     0.471795       0.5  0.153846      1.0               0.25      1.0   \n",
      "3     0.723077       0.2  0.246154      0.0               1.00      0.0   \n",
      "4     0.912821       0.1  0.353846      0.0               1.00      0.0   \n",
      "\n",
      "   x0_No  x0_Rain  \n",
      "0    1.0      0.0  \n",
      "1    0.0      1.0  \n",
      "2    0.0      0.0  \n",
      "3    1.0      0.0  \n",
      "4    1.0      0.0   \n",
      "\n",
      "       Temperature   Humidity    Airflow    Raining  Weather Condition  \\\n",
      "count    67.000000  67.000000  67.000000  67.000000          67.000000   \n",
      "mean      0.593341   0.371940   0.224110   0.223881           0.611940   \n",
      "std       0.178588   0.186712   0.201700   0.419989           0.337896   \n",
      "min       0.000000   0.000000   0.000000   0.000000           0.000000   \n",
      "25%       0.466667   0.240000   0.076923   0.000000           0.250000   \n",
      "50%       0.574359   0.360000   0.169231   0.000000           0.750000   \n",
      "75%       0.712821   0.500000   0.300000   0.000000           0.750000   \n",
      "max       1.000000   1.000000   1.000000   1.000000           1.000000   \n",
      "\n",
      "         x0_Hail      x0_No    x0_Rain  \n",
      "count  67.000000  67.000000  67.000000  \n",
      "mean    0.104478   0.701493   0.194030  \n",
      "std     0.308188   0.461057   0.398437  \n",
      "min     0.000000   0.000000   0.000000  \n",
      "25%     0.000000   0.000000   0.000000  \n",
      "50%     0.000000   1.000000   0.000000  \n",
      "75%     0.000000   1.000000   0.000000  \n",
      "max     1.000000   1.000000   1.000000   \n",
      "\n"
     ]
    },
    {
     "data": {
      "text/plain": [
       "<Figure size 1000x600 with 1 Axes>"
      ],
      "image/png": "[encoded data removed]"
     },
     "metadata": {},
     "output_type": "display_data"
    }
   ],
   "execution_count": 5
  },
  {
   "cell_type": "code",
   "source": [
    "# Standardization (Z-Score Normalization)\n",
    "import pandas as pd\n",
    "import seaborn as sns\n",
    "import matplotlib.pyplot as plt\n",
    "from sklearn.preprocessing import StandardScaler\n",
    "\n",
    "# Load the dataset\n",
    "df = pd.read_csv(\"data/prep-data04.csv\")\n",
    "df.drop('Timestamp', axis=1, inplace=True)\n",
    "\n",
    "# Standardization (Z-Score Normalization)\n",
    "scaler = StandardScaler()\n",
    "scaled_data = scaler.fit_transform(df)\n",
    "scaled_df = pd.DataFrame(scaled_data, columns=df.columns)\n",
    "\n",
    "print(scaled_df.head(), '\\n')\n",
    "print(scaled_df.describe(), '\\n')\n",
    "\n",
    "plt.figure(figsize=(10, 6))\n",
    "sns.scatterplot(x='Temperature', y='Humidity', data=scaled_df)\n",
    "plt.title('Temperature vs Humidity after Standard Scaling')\n",
    "plt.show()"
   ],
   "metadata": {
    "collapsed": false,
    "ExecuteTime": {
     "end_time": "2024-06-25T02:16:28.141454Z",
     "start_time": "2024-06-25T02:16:28.013913Z"
    }
   },
   "id": "6478988684170332",
   "outputs": [
    {
     "name": "stdout",
     "output_type": "stream",
     "text": [
      "   Temperature  Humidity   Airflow   Raining  Weather Condition   x0_Hail  \\\n",
      "0     0.269024 -0.388209 -0.581539 -0.537086          -1.824702 -0.341565   \n",
      "1    -0.222820  0.151418 -0.888940  1.861899           0.411671 -0.341565   \n",
      "2    -0.685731  0.691044 -0.350988  1.861899          -1.079244  2.927700   \n",
      "3     0.731936 -0.927836  0.110114 -0.537086           1.157128 -0.341565   \n",
      "4     1.802420 -1.467463  0.648066 -0.537086           1.157128 -0.341565   \n",
      "\n",
      "      x0_No   x0_Rain  \n",
      "0  0.652328 -0.490653  \n",
      "1 -1.532971  2.038099  \n",
      "2 -1.532971 -0.490653  \n",
      "3  0.652328 -0.490653  \n",
      "4  0.652328 -0.490653   \n",
      "\n",
      "        Temperature      Humidity       Airflow       Raining  \\\n",
      "count  6.700000e+01  6.700000e+01  6.700000e+01  6.700000e+01   \n",
      "mean  -2.833554e-16  3.446663e-16 -2.568426e-16  6.296787e-17   \n",
      "std    1.007547e+00  1.007547e+00  1.007547e+00  1.007547e+00   \n",
      "min   -3.347475e+00 -2.007089e+00 -1.119491e+00 -5.370862e-01   \n",
      "25%   -7.146634e-01 -7.119851e-01 -7.352397e-01 -5.370862e-01   \n",
      "50%   -1.070916e-01 -6.443304e-02 -2.741377e-01 -5.370862e-01   \n",
      "75%    6.740723e-01  6.910444e-01  3.790900e-01 -5.370862e-01   \n",
      "max    2.294264e+00  3.389178e+00  3.875780e+00  1.861899e+00   \n",
      "\n",
      "       Weather Condition       x0_Hail         x0_No       x0_Rain  \n",
      "count       6.700000e+01  6.700000e+01  6.700000e+01  6.700000e+01  \n",
      "mean        3.314099e-18  5.136853e-17 -3.314099e-17 -4.142623e-18  \n",
      "std         1.007547e+00  1.007547e+00  1.007547e+00  1.007547e+00  \n",
      "min        -1.824702e+00 -3.415650e-01 -1.532971e+00 -4.906534e-01  \n",
      "25%        -1.079244e+00 -3.415650e-01 -1.532971e+00 -4.906534e-01  \n",
      "50%         4.116706e-01 -3.415650e-01  6.523281e-01 -4.906534e-01  \n",
      "75%         4.116706e-01 -3.415650e-01  6.523281e-01 -4.906534e-01  \n",
      "max         1.157128e+00  2.927700e+00  6.523281e-01  2.038099e+00   \n",
      "\n"
     ]
    },
    {
     "data": {
      "text/plain": [
       "<Figure size 1000x600 with 1 Axes>"
      ],
      "image/png": "[encoded data removed]"
     },
     "metadata": {},
     "output_type": "display_data"
    }
   ],
   "execution_count": 6
  },
  {
   "cell_type": "markdown",
   "source": [
    "# Feature Engineering"
   ],
   "metadata": {
    "collapsed": false
   },
   "id": "2f4ebe675faf1a09"
  },
  {
   "cell_type": "code",
   "source": [
    "import pandas as pd\n",
    "\n",
    "# Load the dataset\n",
    "df = pd.read_csv(\"data/prep-data04.csv\")\n",
    "\n",
    "# 2. Numeric Feature Engineering\n",
    "# # 2.1 Binning Data\n",
    "df2 = pd.DataFrame(df[\"Temperature\"])\n",
    "# # Method 1: .cut(), use cut when you need to segment and sort data values\n",
    "# into bins.\n",
    "# Cold = < 20, Normal = 20-25, Warm = 25-30, Hot > 30\n",
    "bins = [0, 20, 25, 30, 100]\n",
    "df2['TemperatureBin'] = pd.cut(df['Temperature'], bins)\n",
    "\n",
    "labels = [\"Cold\", \"Normal\", \"Warm\", \"Hot\"]\n",
    "df2 [\"TemperatureLabel\"] = pd.cut(df2[\"Temperature\"], bins=bins, labels=labels)\n",
    "print(df2.sample(n=5), '\\n')\n",
    "\n",
    "# # Method 2: .between() and .loc(), returns a boolean vector containing True \n",
    "# wherever the corresponding Series element is between the boundary values \n",
    "# left and right\n",
    "df3 = pd.DataFrame(df[\"Temperature\"])\n",
    "df3.loc[df3['Temperature'].between(0, 20, 'both'), 'binned_label'] = \"Cold\"\n",
    "df3.loc[df3['Temperature'].between(20, 25, 'right'), 'binned_label'] = \"Normal\"\n",
    "df3.loc[df3['Temperature'].between(25, 30, 'right'), 'binned_label'] = \"Warm\"\n",
    "df3.loc[df3['Temperature'].between(30, 100, 'right'), 'binned_label'] = \"Hot\"\n",
    "print(df3.sample(n=5), '\\n')\n",
    "\n",
    "# # Method 3: .qcut(), Quartile-based discretization function.\n",
    "df4 = pd.DataFrame(df['Temperature'])\n",
    "df4['binned_label'], cut_bin = pd.qcut(df['Temperature'], q=4, labels=[\"Cold\", \"Normal\", \"Warm\", \"Hot\"], retbins=True)\n",
    "print(\"cut_bin: \", cut_bin )\n",
    "print(df4.sample(n=5), '\\n')\n"
   ],
   "metadata": {
    "collapsed": false,
    "ExecuteTime": {
     "end_time": "2024-06-25T02:16:33.045062Z",
     "start_time": "2024-06-25T02:16:32.997312Z"
    }
   },
   "id": "1a1b8998e9d5e0b7",
   "outputs": [
    {
     "name": "stdout",
     "output_type": "stream",
     "text": [
      "    Temperature TemperatureBin TemperatureLabel\n",
      "27         20.6       (20, 25]           Normal\n",
      "19         21.3       (20, 25]           Normal\n",
      "60         23.1       (20, 25]           Normal\n",
      "49         21.3       (20, 25]           Normal\n",
      "65         20.2       (20, 25]           Normal \n",
      "\n",
      "    Temperature binned_label\n",
      "7          23.7       Normal\n",
      "37         23.1       Normal\n",
      "1          20.8       Normal\n",
      "6          26.3         Warm\n",
      "4          27.8         Warm \n",
      "\n",
      "cut_bin:  [10.  19.1 21.2 23.9 29.5]\n",
      "    Temperature binned_label\n",
      "39         19.1         Cold\n",
      "62         19.1         Cold\n",
      "25         18.4         Cold\n",
      "55         18.4         Cold\n",
      "34         16.5         Cold \n",
      "\n"
     ]
    }
   ],
   "execution_count": 7
  },
  {
   "cell_type": "markdown",
   "source": [
    "# # Date and Time Feature Engineering"
   ],
   "metadata": {
    "collapsed": false
   },
   "id": "c0acb99e42e675f9"
  },
  {
   "cell_type": "code",
   "source": [
    "import pandas as pd\n",
    "\n",
    "# 1. Load the dataset\n",
    "df = pd.read_csv(\"data/prep-data04.csv\")\n",
    "# 2. Date and Time Feature Engineering\n",
    "# 2.1 parse Timestamp into DateTime format\n",
    "df['Timestamp'] = pd.to_datetime(df.Timestamp)\n",
    "df2 = pd.DataFrame(df['Timestamp'])\n",
    "                   \n",
    "# 2.2 extract date/quarter/week/weekday/time\n",
    "df2[\"date\"] = df2['Timestamp'].dt.date\n",
    "df2['quarter'] = df2['Timestamp'].dt.quarter\n",
    "df2['weekday'] = df2['Timestamp'].dt.weekday\n",
    "df2['time'] = df2['Timestamp'].dt.time\n",
    "\n",
    "# 2.3 Binning time into 4 bins, [0–5], [6–11], [12–17] and [18–23].\n",
    "df2['time_session'] = pd.to_datetime(df2['Timestamp'], format='%H:%M:%S')\n",
    "\n",
    "a = df2.assign(time_session=pd.cut(df2['time_session'].dt.hour, \n",
    "                                   [0, 6, 12, 18, 24], \n",
    "                                   labels=['Night', 'Morning', 'Afternoon', 'Evening']))\n",
    "df2['time_session'] = a['time_session']    \n",
    "\n",
    "print(df2.sample(n=5), '\\n')\n",
    "\n"
   ],
   "metadata": {
    "collapsed": false,
    "ExecuteTime": {
     "end_time": "2024-06-25T02:16:37.661649Z",
     "start_time": "2024-06-25T02:16:37.606729Z"
    }
   },
   "id": "bd76d0b05da93296",
   "outputs": [
    {
     "name": "stdout",
     "output_type": "stream",
     "text": [
      "             Timestamp        date  quarter  weekday      time time_session\n",
      "30 2023-05-04 18:00:00  2023-05-04        2        3  18:00:00    Afternoon\n",
      "48 2023-05-03 06:00:00  2023-05-03        2        2  06:00:00        Night\n",
      "23 2023-05-03 21:00:00  2023-05-03        2        2  21:00:00      Evening\n",
      "53 2023-05-03 21:00:00  2023-05-03        2        2  21:00:00      Evening\n",
      "35 2023-05-05 09:00:00  2023-05-05        2        4  09:00:00      Morning \n",
      "\n"
     ]
    }
   ],
   "execution_count": 8
  },
  {
   "cell_type": "markdown",
   "source": [
    "# # Text Feature Engineering"
   ],
   "metadata": {
    "collapsed": false
   },
   "id": "351931793de35112"
  },
  {
   "cell_type": "code",
   "outputs": [
    {
     "name": "stdout",
     "output_type": "stream",
     "text": [
      "   evil  horizon  of  problem  queen\n",
      "0     1        0   1        1      0\n",
      "1     1        0   0        0      1\n",
      "2     0        1   0        1      0 \n",
      "\n",
      "       evil   horizon        of   problem     queen\n",
      "0  0.517856  0.000000  0.680919  0.517856  0.000000\n",
      "1  0.605349  0.000000  0.000000  0.000000  0.795961\n",
      "2  0.000000  0.795961  0.000000  0.605349  0.000000 \n"
     ]
    }
   ],
   "source": [
    "import pandas as pd\n",
    "from sklearn.feature_extraction.text import CountVectorizer\n",
    "\n",
    "sample = ['problem of evil', 'evil queen', 'horizon problem']\n",
    "vec = CountVectorizer()\n",
    "X = vec.fit_transform(sample)\n",
    "df = pd.DataFrame(X.toarray(), columns=vec.get_feature_names_out())\n",
    "print(df, '\\n')\n",
    "\n",
    "from sklearn.feature_extraction.text import TfidfVectorizer\n",
    "vec = TfidfVectorizer()\n",
    "X = vec.fit_transform(sample)\n",
    "df2 = pd.DataFrame(X.toarray(), columns=vec.get_feature_names_out())\n",
    "print(df2, '\\n')\n"
   ],
   "metadata": {
    "collapsed": false,
    "ExecuteTime": {
     "end_time": "2024-05-05T08:33:59.433052Z",
     "start_time": "2024-05-05T08:33:58.308364Z"
    }
   },
   "id": "777ed5b6396052e4",
   "execution_count": 19
  },
  {
   "cell_type": "markdown",
   "source": [
    "# # Image Feature Engineering"
   ],
   "metadata": {
    "collapsed": false
   },
   "id": "a0130228a61250ec"
  },
  {
   "cell_type": "code",
   "outputs": [
    {
     "data": {
      "text/plain": "<Figure size 640x480 with 1 Axes>",
      "image/png": "[encoded data removed]"
     },
     "metadata": {},
     "output_type": "display_data"
    },
    {
     "name": "stdout",
     "output_type": "stream",
     "text": [
      "frameGRAY:  (9, 9)\n",
      "[[ 13 129 141 171 201 223 229 224 203]\n",
      " [ 11 138 146 170 159  56  74  71 194]\n",
      " [  9 139 146 171 185 144  61  31 188]\n",
      " [  8 144 157 178  92 163  22  13 147]\n",
      " [  6  12 159 183  61 157 124 109 117]\n",
      " [  6   8 116 142  91  75 178 168  93]\n",
      " [  6   6  11 108  37  30  62  34   2]\n",
      " [  6   6  14  16   7 100  96 106 119]\n",
      " [  7   6  24  14  19  12  19 120 118]]\n"
     ]
    }
   ],
   "source": [
    "import cv2\n",
    "import matplotlib.pyplot as plt\n",
    "\n",
    "# read the image\n",
    "img = cv2.imread(\"data/test.jpg\")\n",
    "# resize image\n",
    "output = cv2.resize(img, (9, 9))\n",
    "\n",
    "frameGRAY = cv2.cvtColor(output, cv2.COLOR_RGB2GRAY)\n",
    "plt.imshow(frameGRAY, cmap=\"gray\", vmin=0, vmax=255)\n",
    "plt.title(\" frameGRAY \")\n",
    "plt.show()\n",
    "print(\"frameGRAY: \", frameGRAY.shape)\n",
    "print(frameGRAY)\n"
   ],
   "metadata": {
    "collapsed": false,
    "ExecuteTime": {
     "end_time": "2024-05-05T10:08:02.250842Z",
     "start_time": "2024-05-05T10:08:01.926370Z"
    }
   },
   "id": "3c6067258396338a",
   "execution_count": 25
  },
  {
   "cell_type": "markdown",
   "source": [
    "# # Handle imbalanced datasets"
   ],
   "metadata": {
    "collapsed": false
   },
   "id": "1110cf3a9482dad7"
  },
  {
   "cell_type": "code",
   "outputs": [
    {
     "name": "stdout",
     "output_type": "stream",
     "text": [
      "Class 0: 500\n",
      "Class 1: 268\n",
      "Proportion: 1.87 : 1 \n",
      "\n",
      "Outcome                                  0           1\n",
      "Pregnancies              count  500.000000  268.000000\n",
      "                         mean     3.298000    4.865672\n",
      "                         std      3.017185    3.741239\n",
      "                         min      0.000000    0.000000\n",
      "                         25%      1.000000    1.750000\n",
      "                         50%      2.000000    4.000000\n",
      "                         75%      5.000000    8.000000\n",
      "                         max     13.000000   17.000000\n",
      "Glucose                  count  500.000000  268.000000\n",
      "                         mean   109.980000  141.257463\n",
      "                         std     26.141200   31.939622\n",
      "                         min      0.000000    0.000000\n",
      "                         25%     93.000000  119.000000\n",
      "                         50%    107.000000  140.000000\n",
      "                         75%    125.000000  167.000000\n",
      "                         max    197.000000  199.000000\n",
      "BloodPressure            count  500.000000  268.000000\n",
      "                         mean    68.184000   70.824627\n",
      "                         std     18.063075   21.491812\n",
      "                         min      0.000000    0.000000\n",
      "                         25%     62.000000   66.000000\n",
      "                         50%     70.000000   74.000000\n",
      "                         75%     78.000000   82.000000\n",
      "                         max    122.000000  114.000000\n",
      "SkinThickness            count  500.000000  268.000000\n",
      "                         mean    19.664000   22.164179\n",
      "                         std     14.889947   17.679711\n",
      "                         min      0.000000    0.000000\n",
      "                         25%      0.000000    0.000000\n",
      "                         50%     21.000000   27.000000\n",
      "                         75%     31.000000   36.000000\n",
      "                         max     60.000000   99.000000\n",
      "Insulin                  count  500.000000  268.000000\n",
      "                         mean    68.792000  100.335821\n",
      "                         std     98.865289  138.689125\n",
      "                         min      0.000000    0.000000\n",
      "                         25%      0.000000    0.000000\n",
      "                         50%     39.000000    0.000000\n",
      "                         75%    105.000000  167.250000\n",
      "                         max    744.000000  846.000000\n",
      "BMI                      count  500.000000  268.000000\n",
      "                         mean    30.304200   35.142537\n",
      "                         std      7.689855    7.262967\n",
      "                         min      0.000000    0.000000\n",
      "                         25%     25.400000   30.800000\n",
      "                         50%     30.050000   34.250000\n",
      "                         75%     35.300000   38.775000\n",
      "                         max     57.300000   67.100000\n",
      "DiabetesPedigreeFunction count  500.000000  268.000000\n",
      "                         mean     0.429734    0.550500\n",
      "                         std      0.299085    0.372354\n",
      "                         min      0.078000    0.088000\n",
      "                         25%      0.229750    0.262500\n",
      "                         50%      0.336000    0.449000\n",
      "                         75%      0.561750    0.728000\n",
      "                         max      2.329000    2.420000\n",
      "Age                      count  500.000000  268.000000\n",
      "                         mean    31.190000   37.067164\n",
      "                         std     11.667655   10.968254\n",
      "                         min     21.000000   21.000000\n",
      "                         25%     23.000000   28.000000\n",
      "                         50%     27.000000   36.000000\n",
      "                         75%     37.000000   44.000000\n",
      "                         max     81.000000   70.000000 \n"
     ]
    }
   ],
   "source": [
    "import pandas as pd\n",
    "\n",
    "# Load the dataset\n",
    "df = pd.read_csv(\"data/diabetes.csv\")\n",
    "\n",
    "# Display the target class distribution\n",
    "target_count = df.Outcome.value_counts()\n",
    "print('Class 0:', target_count[0])\n",
    "print('Class 1:', target_count[1])\n",
    "print('Proportion:', round(target_count[0] / target_count[1], 2), ': 1', '\\n')\n",
    "\n",
    "# Display the data description of each target class\n",
    "print(df.groupby('Outcome').describe().T.to_string(), '\\n')\n"
   ],
   "metadata": {
    "collapsed": false,
    "ExecuteTime": {
     "end_time": "2024-05-26T05:46:17.341374Z",
     "start_time": "2024-05-26T05:46:17.223600Z"
    }
   },
   "id": "ff8a5e505cb1a11d",
   "execution_count": 5
  },
  {
   "cell_type": "code",
   "outputs": [
    {
     "name": "stdout",
     "output_type": "stream",
     "text": [
      "Outcome\n",
      "0    268\n",
      "1    268\n",
      "Name: count, dtype: int64 \n",
      "\n",
      "Outcome                                  0           1\n",
      "Pregnancies              count  268.000000  268.000000\n",
      "                         mean     3.440299    4.865672\n",
      "                         std      3.163488    3.741239\n",
      "                         min      0.000000    0.000000\n",
      "                         25%      1.000000    1.750000\n",
      "                         50%      2.000000    4.000000\n",
      "                         75%      5.000000    8.000000\n",
      "                         max     13.000000   17.000000\n",
      "Glucose                  count  268.000000  268.000000\n",
      "                         mean   108.791045  141.257463\n",
      "                         std     25.597306   31.939622\n",
      "                         min      0.000000    0.000000\n",
      "                         25%     92.000000  119.000000\n",
      "                         50%    106.000000  140.000000\n",
      "                         75%    123.000000  167.000000\n",
      "                         max    194.000000  199.000000\n",
      "BloodPressure            count  268.000000  268.000000\n",
      "                         mean    69.313433   70.824627\n",
      "                         std     16.378445   21.491812\n",
      "                         min      0.000000    0.000000\n",
      "                         25%     62.000000   66.000000\n",
      "                         50%     70.000000   74.000000\n",
      "                         75%     78.000000   82.000000\n",
      "                         max    108.000000  114.000000\n",
      "SkinThickness            count  268.000000  268.000000\n",
      "                         mean    18.973881   22.164179\n",
      "                         std     14.769492   17.679711\n",
      "                         min      0.000000    0.000000\n",
      "                         25%      0.000000    0.000000\n",
      "                         50%     20.000000   27.000000\n",
      "                         75%     30.000000   36.000000\n",
      "                         max     60.000000   99.000000\n",
      "Insulin                  count  268.000000  268.000000\n",
      "                         mean    68.167910  100.335821\n",
      "                         std    100.813832  138.689125\n",
      "                         min      0.000000    0.000000\n",
      "                         25%      0.000000    0.000000\n",
      "                         50%     37.000000    0.000000\n",
      "                         75%    101.250000  167.250000\n",
      "                         max    680.000000  846.000000\n",
      "BMI                      count  268.000000  268.000000\n",
      "                         mean    30.496269   35.142537\n",
      "                         std      7.872190    7.262967\n",
      "                         min      0.000000    0.000000\n",
      "                         25%     25.550000   30.800000\n",
      "                         50%     30.500000   34.250000\n",
      "                         75%     35.100000   38.775000\n",
      "                         max     57.300000   67.100000\n",
      "DiabetesPedigreeFunction count  268.000000  268.000000\n",
      "                         mean     0.442093    0.550500\n",
      "                         std      0.294460    0.372354\n",
      "                         min      0.078000    0.088000\n",
      "                         25%      0.233250    0.262500\n",
      "                         50%      0.343500    0.449000\n",
      "                         75%      0.596250    0.728000\n",
      "                         max      1.781000    2.420000\n",
      "Age                      count  268.000000  268.000000\n",
      "                         mean    32.235075   37.067164\n",
      "                         std     12.658314   10.968254\n",
      "                         min     21.000000   21.000000\n",
      "                         25%     23.000000   28.000000\n",
      "                         50%     27.000000   36.000000\n",
      "                         75%     39.000000   44.000000\n",
      "                         max     81.000000   70.000000 \n"
     ]
    }
   ],
   "source": [
    "# Method 1: Random Under-Sampling\n",
    "from sklearn.utils import resample\n",
    "\n",
    "# Separate majority and minority classes\n",
    "df_majority = df[df.Outcome == 0]\n",
    "df_minority = df[df.Outcome == 1]\n",
    "\n",
    "# Downsample majority class\n",
    "df_majority_downsampled = resample(df_majority, \n",
    "                                   replace=False,    # sample without replacement\n",
    "                                   n_samples=len(df_minority),    # to match minority class\n",
    "                                   random_state=123) # reproducible results\n",
    "\n",
    "# Combine minority class with downsampled majority class\n",
    "df_downsampled = pd.concat([df_majority_downsampled, df_minority])\n",
    "\n",
    "# Display new class counts\n",
    "print(df_downsampled.Outcome.value_counts(), '\\n')\n",
    "\n",
    "# Display the data description of each target class\n",
    "print(df_downsampled.groupby('Outcome').describe().T.to_string(), '\\n')"
   ],
   "metadata": {
    "collapsed": false,
    "ExecuteTime": {
     "end_time": "2024-05-26T05:54:17.063888Z",
     "start_time": "2024-05-26T05:54:16.796532Z"
    }
   },
   "id": "3d54222353d2120a",
   "execution_count": 8
  },
  {
   "cell_type": "code",
   "outputs": [
    {
     "name": "stdout",
     "output_type": "stream",
     "text": [
      "Outcome\n",
      "0    500\n",
      "1    500\n",
      "Name: count, dtype: int64\n",
      "Outcome                                  0           1\n",
      "Pregnancies              count  500.000000  500.000000\n",
      "                         mean     3.298000    4.952000\n",
      "                         std      3.017185    3.738670\n",
      "                         min      0.000000    0.000000\n",
      "                         25%      1.000000    2.000000\n",
      "                         50%      2.000000    5.000000\n",
      "                         75%      5.000000    7.000000\n",
      "                         max     13.000000   17.000000\n",
      "Glucose                  count  500.000000  500.000000\n",
      "                         mean   109.980000  140.232000\n",
      "                         std     26.141200   31.409988\n",
      "                         min      0.000000    0.000000\n",
      "                         25%     93.000000  119.000000\n",
      "                         50%    107.000000  137.000000\n",
      "                         75%    125.000000  164.500000\n",
      "                         max    197.000000  199.000000\n",
      "BloodPressure            count  500.000000  500.000000\n",
      "                         mean    68.184000   70.376000\n",
      "                         std     18.063075   20.468624\n",
      "                         min      0.000000    0.000000\n",
      "                         25%     62.000000   66.000000\n",
      "                         50%     70.000000   74.000000\n",
      "                         75%     78.000000   82.000000\n",
      "                         max    122.000000  114.000000\n",
      "SkinThickness            count  500.000000  500.000000\n",
      "                         mean    19.664000   23.036000\n",
      "                         std     14.889947   17.544753\n",
      "                         min      0.000000    0.000000\n",
      "                         25%      0.000000    0.000000\n",
      "                         50%     21.000000   27.000000\n",
      "                         75%     31.000000   36.000000\n",
      "                         max     60.000000   99.000000\n",
      "Insulin                  count  500.000000  500.000000\n",
      "                         mean    68.792000  103.578000\n",
      "                         std     98.865289  135.479701\n",
      "                         min      0.000000    0.000000\n",
      "                         25%      0.000000    0.000000\n",
      "                         50%     39.000000   72.000000\n",
      "                         75%    105.000000  167.250000\n",
      "                         max    744.000000  846.000000\n",
      "BMI                      count  500.000000  500.000000\n",
      "                         mean    30.304200   34.868200\n",
      "                         std      7.689855    6.879021\n",
      "                         min      0.000000    0.000000\n",
      "                         25%     25.400000   30.725000\n",
      "                         50%     30.050000   34.300000\n",
      "                         75%     35.300000   38.500000\n",
      "                         max     57.300000   67.100000\n",
      "DiabetesPedigreeFunction count  500.000000  500.000000\n",
      "                         mean     0.429734    0.544780\n",
      "                         std      0.299085    0.354505\n",
      "                         min      0.078000    0.088000\n",
      "                         25%      0.229750    0.263000\n",
      "                         50%      0.336000    0.447000\n",
      "                         75%      0.561750    0.724250\n",
      "                         max      2.329000    2.288000\n",
      "Age                      count  500.000000  500.000000\n",
      "                         mean    31.190000   36.438000\n",
      "                         std     11.667655   10.478442\n",
      "                         min     21.000000   21.000000\n",
      "                         25%     23.000000   27.000000\n",
      "                         50%     27.000000   34.000000\n",
      "                         75%     37.000000   44.000000\n",
      "                         max     81.000000   67.000000 \n"
     ]
    }
   ],
   "source": [
    "# Method 2: Random Over-Sampling\n",
    "from sklearn.utils import resample\n",
    "\n",
    "# Separate majority and minority classes\n",
    "df_majority = df[df.Outcome == 0]\n",
    "df_minority = df[df.Outcome == 1]\n",
    "\n",
    "# Upsample minority class\n",
    "df_minority_upsampled = resample(df_minority, \n",
    "                                 replace=True,     # sample with replacement\n",
    "                                 n_samples=len(df_majority),    # to match majority class\n",
    "                                 random_state=123) # reproducible results\n",
    "\n",
    "# Combine majority class with upsampled minority class\n",
    "df_upsampled = pd.concat([df_majority, df_minority_upsampled])\n",
    "\n",
    "# Display new class counts\n",
    "print(df_upsampled.Outcome.value_counts())\n",
    "\n",
    "# Display the data description of each target class\n",
    "print(df_upsampled.groupby('Outcome').describe().T.to_string(), '\\n')"
   ],
   "metadata": {
    "collapsed": false,
    "ExecuteTime": {
     "end_time": "2024-05-26T05:56:25.346995Z",
     "start_time": "2024-05-26T05:56:25.193871Z"
    }
   },
   "id": "16c0dcef8f373735",
   "execution_count": 9
  },
  {
   "cell_type": "code",
   "outputs": [
    {
     "name": "stdout",
     "output_type": "stream",
     "text": [
      "Outcome\n",
      "1    500\n",
      "0    500\n",
      "Name: count, dtype: int64\n",
      "Outcome                                  0           1\n",
      "Pregnancies              count  500.000000  500.000000\n",
      "                         mean     3.298000    4.562000\n",
      "                         std      3.017185    3.407841\n",
      "                         min      0.000000    0.000000\n",
      "                         25%      1.000000    2.000000\n",
      "                         50%      2.000000    4.000000\n",
      "                         75%      5.000000    7.000000\n",
      "                         max     13.000000   17.000000\n",
      "Glucose                  count  500.000000  500.000000\n",
      "                         mean   109.980000  140.300000\n",
      "                         std     26.141200   31.543748\n",
      "                         min      0.000000    0.000000\n",
      "                         25%     93.000000  117.000000\n",
      "                         50%    107.000000  138.000000\n",
      "                         75%    125.000000  166.000000\n",
      "                         max    197.000000  199.000000\n",
      "BloodPressure            count  500.000000  500.000000\n",
      "                         mean    68.184000   70.610000\n",
      "                         std     18.063075   20.264234\n",
      "                         min      0.000000    0.000000\n",
      "                         25%     62.000000   66.000000\n",
      "                         50%     70.000000   74.000000\n",
      "                         75%     78.000000   82.000000\n",
      "                         max    122.000000  114.000000\n",
      "SkinThickness            count  500.000000  500.000000\n",
      "                         mean    19.664000   21.772000\n",
      "                         std     14.889947   17.161966\n",
      "                         min      0.000000    0.000000\n",
      "                         25%      0.000000    0.000000\n",
      "                         50%     21.000000   26.500000\n",
      "                         75%     31.000000   35.000000\n",
      "                         max     60.000000   99.000000\n",
      "Insulin                  count  500.000000  500.000000\n",
      "                         mean    68.792000   96.770000\n",
      "                         std     98.865289  132.931843\n",
      "                         min      0.000000    0.000000\n",
      "                         25%      0.000000    0.000000\n",
      "                         50%     39.000000    0.000000\n",
      "                         75%    105.000000  162.750000\n",
      "                         max    744.000000  846.000000\n",
      "BMI                      count  500.000000  500.000000\n",
      "                         mean    30.304200   34.984566\n",
      "                         std      7.689855    6.844143\n",
      "                         min      0.000000    0.000000\n",
      "                         25%     25.400000   31.075000\n",
      "                         50%     30.050000   34.260115\n",
      "                         75%     35.300000   38.234651\n",
      "                         max     57.300000   67.100000\n",
      "DiabetesPedigreeFunction count  500.000000  500.000000\n",
      "                         mean     0.429734    0.547844\n",
      "                         std      0.299085    0.338102\n",
      "                         min      0.078000    0.088000\n",
      "                         25%      0.229750    0.293594\n",
      "                         50%      0.336000    0.465319\n",
      "                         75%      0.561750    0.721250\n",
      "                         max      2.329000    2.420000\n",
      "Age                      count  500.000000  500.000000\n",
      "                         mean    31.190000   36.542000\n",
      "                         std     11.667655   10.701836\n",
      "                         min     21.000000   21.000000\n",
      "                         25%     23.000000   28.000000\n",
      "                         50%     27.000000   34.000000\n",
      "                         75%     37.000000   43.250000\n",
      "                         max     81.000000   70.000000 \n"
     ]
    }
   ],
   "source": [
    "# Method 3: SMOTE (Synthetic Minority Over-sampling Technique)\n",
    "from imblearn.over_sampling import SMOTE\n",
    "\n",
    "# Separate input features and target\n",
    "X = df.drop('Outcome', axis=1)\n",
    "y = df.Outcome\n",
    "\n",
    "# Apply SMOTE\n",
    "smote = SMOTE(sampling_strategy='minority')\n",
    "X_sm, y_sm = smote.fit_resample(X, y)\n",
    "\n",
    "# Display new class counts\n",
    "print(y_sm.value_counts())\n",
    "\n",
    "# Display the data description of each target class\n",
    "df_smote = pd.concat([X_sm, y_sm], axis=1)\n",
    "print(df_smote.groupby('Outcome').describe().T.to_string(), '\\n')"
   ],
   "metadata": {
    "collapsed": false,
    "ExecuteTime": {
     "end_time": "2024-05-26T05:57:57.510807Z",
     "start_time": "2024-05-26T05:57:57.219867Z"
    }
   },
   "id": "5a669f0bcd414036",
   "execution_count": 11
  },
  {
   "cell_type": "code",
   "outputs": [],
   "source": [],
   "metadata": {
    "collapsed": false
   },
   "id": "f2f38e242d9d4ff",
   "execution_count": null
  }
 ],
 "metadata": {
  "kernelspec": {
   "display_name": "Python 3",
   "language": "python",
   "name": "python3"
  },
  "language_info": {
   "codemirror_mode": {
    "name": "ipython",
    "version": 2
   },
   "file_extension": ".py",
   "mimetype": "text/x-python",
   "name": "python",
   "nbconvert_exporter": "python",
   "pygments_lexer": "ipython2",
   "version": "2.7.6"
  }
 },
 "nbformat": 4,
 "nbformat_minor": 5
}
