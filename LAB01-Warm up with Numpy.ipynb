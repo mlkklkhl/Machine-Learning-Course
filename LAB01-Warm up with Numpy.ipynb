{
 "cells": [
  {
   "cell_type": "markdown",
   "source": [
    "# NumPy\n",
    "\n",
    "NumPy is a powerful linear algebra library for Python. What makes it so important is that almost all of the libraries in the PyData ecosystem (pandas, scipy, scikit-learn, etc.) rely on NumPy as one of their main building blocks. Plus we will use it to generate data for our analysis examples later on!\n",
    "\n",
    "NumPy is also incredibly fast, as it has bindings to C libraries. For more info on why you would want to use arrays instead of lists, check out this great [StackOverflow post](http://stackoverflow.com/questions/993984/why-numpy-instead-of-python-lists).\n",
    "\n",
    "We will only learn the basics of NumPy. To get started we need to install it!"
   ],
   "metadata": {
    "collapsed": false
   },
   "id": "c06dd9d84a0d0d76"
  },
  {
   "cell_type": "markdown",
   "source": [
    "# Importing NumPy\n",
    "\n",
    "Once you’ve installed NumPy you can import it as a library:"
   ],
   "metadata": {
    "collapsed": false
   },
   "id": "66b849e88a846f12"
  },
  {
   "cell_type": "code",
   "outputs": [],
   "source": [
    "import numpy as np"
   ],
   "metadata": {
    "collapsed": false,
    "ExecuteTime": {
     "end_time": "2024-04-30T04:08:57.829107Z",
     "start_time": "2024-04-30T04:08:57.525872Z"
    }
   },
   "id": "849e35152708912c",
   "execution_count": 2
  },
  {
   "cell_type": "markdown",
   "source": [
    "NumPy has many built-in functions and capabilities. We won't cover them all but instead we will focus on some of the most important aspects of NumPy: vectors, arrays, matrices and number generation. Let's start by discussing arrays.\n",
    "\n",
    "# NumPy Arrays\n",
    "\n",
    "NumPy arrays are the main way we will use NumPy throughout the course. NumPy arrays essentially come in two flavors: vectors and matrices. Vectors are strictly 1-dimensional (1D) arrays and matrices are 2D (but you should note a matrix can still have only one row or one column).\n",
    "\n",
    "## Why use Numpy array? Why not just a list?\n",
    "\n",
    "There are lot's of reasons to use a Numpy array instead of a \"standard\" python list object. Our main reasons are:\n",
    "* Memory Efficiency of Numpy Array vs list\n",
    "* Easily expands to N-dimensional objects\n",
    "* Speed of calculations of numpy array\n",
    "* Broadcasting operations and functions with numpy\n",
    "* All the data science and machine learning libraries we use are built with Numpy\n",
    "\n",
    "## Simple Example of what numpy array can do"
   ],
   "metadata": {
    "collapsed": false
   },
   "id": "244887fa0a924e51"
  },
  {
   "cell_type": "code",
   "outputs": [
    {
     "name": "stdout",
     "output_type": "stream",
     "text": [
      "(3,) [2 3 4]\n",
      "(2, 3) [[1.5 2.  3. ]\n",
      " [4.  5.  6. ]]\n",
      "(15,) [ 0  1  2  3  4  5  6  7  8  9 10 11 12 13 14]\n",
      "(3, 5) [[ 0  1  2  3  4]\n",
      " [ 5  6  7  8  9]\n",
      " [10 11 12 13 14]]\n",
      "(3, 4) [[0. 0. 0. 0.]\n",
      " [0. 0. 0. 0.]\n",
      " [0. 0. 0. 0.]]\n",
      "(2, 3, 4) [[[1 1 1 1]\n",
      "  [1 1 1 1]\n",
      "  [1 1 1 1]]\n",
      "\n",
      " [[1 1 1 1]\n",
      "  [1 1 1 1]\n",
      "  [1 1 1 1]]]\n",
      "(3, 3) [[1. 0. 0.]\n",
      " [0. 1. 0.]\n",
      " [0. 0. 1.]]\n",
      "(2, 3) [[0.1315285  0.40071424 0.31604984]\n",
      " [0.71608116 0.7006495  0.1121293 ]]\n",
      "() 0.7160811572692115\n",
      "() 3\n"
     ]
    }
   ],
   "source": [
    "a = np.array([2, 3, 4])\n",
    "b = np.array([(1.5, 2,3), (4, 5, 6)])\n",
    "c = np.arange(15)\n",
    "d = np.arange(15).reshape(3, 5)\n",
    "e = np.zeros((3, 4))\n",
    "f = np.ones((2, 3, 4), dtype=np.int16)\n",
    "g = np.eye(3)\n",
    "h = np.random.rand(2,3)\n",
    "i = h.max()\n",
    "j = h.argmax()\n",
    "\n",
    "print(a.shape, a)\n",
    "print(b.shape, b)\n",
    "print(c.shape, c)\n",
    "print(d.shape, d)\n",
    "print(e.shape, e)\n",
    "print(f.shape, f)\n",
    "print(g.shape, g)\n",
    "print(h.shape, h)\n",
    "print(i.shape, i)\n",
    "print(j.shape, j)"
   ],
   "metadata": {
    "collapsed": false,
    "ExecuteTime": {
     "end_time": "2024-04-30T04:59:53.975121Z",
     "start_time": "2024-04-30T04:59:53.876192Z"
    }
   },
   "id": "f8cdca5d4772b5d4",
   "execution_count": 9
  },
  {
   "cell_type": "code",
   "outputs": [
    {
     "data": {
      "text/plain": "((3,), array([4, 6, 8]))"
     },
     "execution_count": 14,
     "metadata": {},
     "output_type": "execute_result"
    }
   ],
   "source": [
    "# Numpy Operations\n",
    "k = a * 2\n",
    "l = b.sum(axis=0)\n",
    "m = np.exp(c)\n",
    "\n",
    "k.shape, k\n"
   ],
   "metadata": {
    "collapsed": false,
    "ExecuteTime": {
     "end_time": "2024-04-30T05:34:57.929525Z",
     "start_time": "2024-04-30T05:34:57.799441Z"
    }
   },
   "id": "8c213e380c220955",
   "execution_count": 14
  },
  {
   "cell_type": "code",
   "outputs": [],
   "source": [],
   "metadata": {
    "collapsed": false
   },
   "id": "64ddd58a38f58882"
  }
 ],
 "metadata": {
  "kernelspec": {
   "display_name": "Python 3",
   "language": "python",
   "name": "python3"
  },
  "language_info": {
   "codemirror_mode": {
    "name": "ipython",
    "version": 2
   },
   "file_extension": ".py",
   "mimetype": "text/x-python",
   "name": "python",
   "nbconvert_exporter": "python",
   "pygments_lexer": "ipython2",
   "version": "2.7.6"
  }
 },
 "nbformat": 4,
 "nbformat_minor": 5
}
