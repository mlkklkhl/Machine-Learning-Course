{
 "cells": [
  {
   "cell_type": "markdown",
   "source": [
    "# # A TikTok video classification (ref. Google-Coursera TikTok project)\n",
    "# # Hyperparameter Tuning using GridSearchCV"
   ],
   "metadata": {
    "collapsed": false
   },
   "id": "3f362e71f73cfe5c"
  },
  {
   "cell_type": "code",
   "outputs": [],
   "source": [
    "# Import the necessary libraries\n",
    "import pandas as pd\n",
    "\n",
    "# Load the dataset\n",
    "df = pd.read_csv('data/tiktok_dataset.csv')\n",
    "# Display the first five rows of the dataset\n",
    "print(df.head(5).to_string(), '\\n')\n",
    "# Display descriptive statistics\n",
    "print(df.describe().to_string(), '\\n')\n",
    "\n",
    "# # Preprocess the dataset\n",
    "# Drop the '#' and 'video_id' columns\n",
    "df = df.drop(['#', 'video_id'], axis=1)\n",
    "# Handling missing values\n",
    "df = df.dropna()\n",
    "# Handling duplicate values\n",
    "df = df.drop_duplicates()\n",
    "# Handling outliers\n",
    "df = df[(df['video_download_count'] > 0) & (df['video_like_count'] > 0) & (df['video_comment_count'] > 0) & (df['video_share_count'] > 0)]\n",
    "\n",
    "# Display descriptive statistics of the dataset after preprocessing\n",
    "print(df.describe().to_string(), '\\n')\n",
    "# Check class balance\n",
    "print(df['claim_status'].value_counts(), '\\n')"
   ],
   "metadata": {
    "collapsed": false,
    "ExecuteTime": {
     "end_time": "2024-05-29T06:34:32.353524Z",
     "start_time": "2024-05-29T06:34:32.350502Z"
    }
   },
   "id": "3df047b904d9c6a8",
   "execution_count": 1
  },
  {
   "cell_type": "code",
   "execution_count": 1,
   "id": "initial_id",
   "metadata": {
    "collapsed": true,
    "ExecuteTime": {
     "end_time": "2024-05-29T06:34:32.408279Z",
     "start_time": "2024-05-29T06:34:32.406526Z"
    }
   },
   "outputs": [],
   "source": [
    "# # Feature Engineering\n",
    "# Extract the length of each video_transcription_text and add this as a column to the dataframe,\n",
    "# so that it can be used as a potential feature in the model.\n",
    "df['video_transcription_text_length'] = df['video_transcription_text'].apply(lambda x: len(x))\n",
    "df.drop('video_transcription_text', axis=1, inplace=True)\n",
    "\n",
    "# Calculate the average text_length for claims and opinions.\n",
    "average_text_length_claim = df[df['claim_status'] == 'claim']['video_transcription_text_length'].mean()\n",
    "average_text_length_opinion = df[df['claim_status'] == 'opinion']['video_transcription_text_length'].mean()\n",
    "\n",
    "# Visualize the distribution of `text_length` for claims and opinions\n",
    "# Create two histograms in one plot\n",
    "import matplotlib.pyplot as plt\n",
    "import seaborn as sns\n",
    "\n",
    "plt.figure(figsize=(10, 5))\n",
    "sns.histplot(df[df['claim_status'] == 'claim']['video_transcription_text_length'], color='blue', label='Claim', kde=True)\n",
    "sns.histplot(df[df['claim_status'] == 'opinion']['video_transcription_text_length'], color='red', label='Opinion', kde=True)\n",
    "plt.axvline(average_text_length_claim, color='blue', linestyle='dashed', linewidth=1)\n",
    "plt.axvline(average_text_length_opinion, color='red', linestyle='dashed', linewidth=1)\n",
    "plt.legend()\n",
    "plt.title('Distribution of Text Length for Claims and Opinions')\n",
    "plt.xlabel('Text Length')\n",
    "plt.ylabel('Frequency')\n",
    "plt.show()\n",
    "\n",
    "# Encode target and categorical variables.\n",
    "from sklearn.preprocessing import LabelEncoder\n",
    "\n",
    "mapping = {}\n",
    "# Encode the categorical variables\n",
    "for col in df.select_dtypes(include='object').columns:\n",
    "    le = LabelEncoder()\n",
    "    df[col] = le.fit_transform(df[col])\n",
    "    mapping[col] = dict(zip(le.classes_, le.transform(le.classes_)))\n",
    "\n",
    "# Display the mapping of the categorical variables\n",
    "print(mapping, '\\n')\n",
    "\n",
    "# Display descriptive statistics of the dataset after preprocessing\n",
    "print(df.describe(include='all').to_string(), '\\n')"
   ]
  },
  {
   "cell_type": "code",
   "outputs": [],
   "source": [
    "# # Prepare the data for modeling\n",
    "# Split the dataset into features and target variable\n",
    "X = df.drop('claim_status', axis=1)\n",
    "y = df['claim_status']\n",
    "\n",
    "# Split the dataset into training and testing sets\n",
    "from sklearn.model_selection import train_test_split\n",
    "X_train, X_test, y_train, y_test = train_test_split(X, y, test_size=0.3, random_state=42)\n",
    "\n",
    "# Display the shape of the training and testing sets\n",
    "print('Training set shape:', X_train.shape, y_train.shape)\n",
    "print('Testing set shape:', X_test.shape, y_test.shape, '\\n')\n",
    "\n",
    "# # Train the Random Forest model\n",
    "from sklearn.ensemble import RandomForestClassifier\n",
    "rf = RandomForestClassifier()\n",
    "\n",
    "# # GridSearchCV\n",
    "from sklearn.model_selection import GridSearchCV\n",
    "\n",
    "# scoring metrics\n",
    "scoring = {'accuracy': 'accuracy',\n",
    "           'precision': 'precision_weighted',\n",
    "           'recall': 'recall_weighted',\n",
    "           'f1': 'f1_weighted'}\n",
    "\n",
    "# Create the hyperparameter grid - search space\n",
    "param_grid = {\n",
    "    'n_estimators': [50, 100, 200],\n",
    "    'max_depth': [3, 5, 7, 9],\n",
    "    'max_samples': [0.5, 0.7, 0.9],\n",
    "    'min_samples_split': [2, 5, 10],\n",
    "    'min_samples_leaf': [1, 2, 4]\n",
    "}\n",
    "\n",
    "# Instantiate the GridSearchCV object\n",
    "grid_search = GridSearchCV(estimator=rf, param_grid=param_grid, cv=5, n_jobs=-1, \n",
    "                           verbose=2, scoring=scoring, refit='accuracy')\n",
    "\n",
    "# Fit the GridSearchCV object\n",
    "grid_search.fit(X_train, y_train)\n",
    "\n",
    "# Get the best parameters\n",
    "best_params = grid_search.best_params_\n",
    "\n",
    "# Display the best parameters\n",
    "print('Best Parameters:', best_params, '\\n')\n",
    "# Display the best score\n",
    "print('Best Score:', grid_search.best_score_, '\\n')"
   ],
   "metadata": {
    "collapsed": false
   },
   "id": "e36b21fdbb7240cc"
  },
  {
   "cell_type": "code",
   "outputs": [],
   "source": [
    "# # Evaluate the model\n",
    "\n",
    "# Get the best model\n",
    "best_model = grid_search.best_estimator_\n",
    "\n",
    "# Predict the test set\n",
    "y_pred = best_model.predict(X_test)\n",
    "\n",
    "# Calculate the classification report\n",
    "from sklearn.metrics import classification_report\n",
    "from sklearn.metrics import accuracy_score, precision_score, recall_score, f1_score\n",
    "from sklearn.metrics import confusion_matrix\n",
    "print('Classification Report:')\n",
    "print(classification_report(y_test, y_pred), '\\n')\n",
    "\n",
    "# Calculate the accuracy\n",
    "accuracy = accuracy_score(y_test, y_pred)\n",
    "presicion = precision_score(y_test, y_pred, average='weighted')\n",
    "recall = recall_score(y_test, y_pred, average='weighted')\n",
    "f1 = f1_score(y_test, y_pred, average='weighted')\n",
    "print('Accuracy: {0}, Precision: {1}, Recall: {2}, F1 Score: {3}'.format(accuracy, presicion, recall, f1), '\\n')\n",
    "\n",
    "# Visualize the confusion matrix\n",
    "import matplotlib.pyplot as plt\n",
    "import seaborn as sns\n",
    "\n",
    "cm = confusion_matrix(y_test, y_pred)\n",
    "plt.figure(figsize=(10, 5))\n",
    "sns.set(font_scale=1.5)\n",
    "sns.heatmap(cm, annot=True, fmt='d', cmap='Blues')\n",
    "plt.xlabel('Predicted')\n",
    "plt.ylabel('Actual')\n",
    "plt.title('Confusion Matrix')\n",
    "plt.show()"
   ],
   "metadata": {
    "collapsed": false
   },
   "id": "8dca5353ac7c44c"
  }
 ],
 "metadata": {
  "kernelspec": {
   "display_name": "Python 3",
   "language": "python",
   "name": "python3"
  },
  "language_info": {
   "codemirror_mode": {
    "name": "ipython",
    "version": 2
   },
   "file_extension": ".py",
   "mimetype": "text/x-python",
   "name": "python",
   "nbconvert_exporter": "python",
   "pygments_lexer": "ipython2",
   "version": "2.7.6"
  }
 },
 "nbformat": 4,
 "nbformat_minor": 5
}
