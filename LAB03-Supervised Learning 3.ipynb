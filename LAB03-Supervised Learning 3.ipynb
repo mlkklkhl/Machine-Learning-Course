{
 "cells": [
  {
   "cell_type": "markdown",
   "source": [
    "# KNN, SVM, ANNs\n",
    "## Prepare the dataset"
   ],
   "metadata": {
    "collapsed": false
   },
   "id": "26437f2f65550267"
  },
  {
   "cell_type": "code",
   "outputs": [],
   "source": [
    "import pandas as pd\n",
    "from sklearn.model_selection import train_test_split\n",
    "from sklearn.metrics import accuracy_score\n",
    "\n",
    "# Load dataset\n",
    "df = pd.read_csv('data/emails.csv')\n",
    "print(df.head().to_string())\n",
    "\n",
    "# # Check data description\n",
    "print(df.describe(include='all').to_string())\n",
    "\n",
    "# # Drop the email number column\n",
    "df.drop(['Email No.'], axis=1, inplace=True)\n",
    "\n",
    "# # Splitting the dataset into features (input) and target (output, label)\n",
    "X = df.loc[:, df.columns != 'Prediction']\n",
    "y = df['Prediction']\n",
    "\n",
    "# # Splitting the dataset into training and testing sets\n",
    "X_train, X_test, y_train, y_test = train_test_split(X, y, test_size=0.2, random_state=0)"
   ],
   "metadata": {
    "collapsed": false
   },
   "id": "a202df1d3cf976a0"
  },
  {
   "cell_type": "markdown",
   "source": [
    "## KNN"
   ],
   "metadata": {
    "collapsed": false
   },
   "id": "7acdef3b17f9a98b"
  },
  {
   "cell_type": "code",
   "outputs": [],
   "source": [
    "# # KNN Classifier training\n",
    "from sklearn.neighbors import KNeighborsClassifier\n",
    "knn = KNeighborsClassifier(n_neighbors=3)\n",
    "knn.fit(X_train, y_train)\n",
    "\n",
    "# # Test prediction\n",
    "y_pred = knn.predict(X_test)\n",
    "accuracy = accuracy_score(y_test, y_pred)\n",
    "print(\"KNN Accuracy: \", accuracy)"
   ],
   "metadata": {
    "collapsed": false
   },
   "id": "e7d73a99468686c6"
  },
  {
   "cell_type": "markdown",
   "source": [
    "## SVM"
   ],
   "metadata": {
    "collapsed": false
   },
   "id": "e197286fa93295de"
  },
  {
   "cell_type": "code",
   "execution_count": null,
   "id": "initial_id",
   "metadata": {
    "collapsed": true
   },
   "outputs": [],
   "source": [
    "# # SVM Classifier training\n",
    "from sklearn.svm import SVC\n",
    "svm = SVC(kernel='linear', C=1.0, random_state=0)\n",
    "svm.fit(X_train, y_train)\n",
    "\n",
    "# # Test prediction\n",
    "y_pred = svm.predict(X_test)\n",
    "accuracy = accuracy_score(y_test, y_pred)\n",
    "print(\"SVM Accuracy: \", accuracy)"
   ]
  },
  {
   "cell_type": "markdown",
   "source": [
    "## ANNs"
   ],
   "metadata": {
    "collapsed": false
   },
   "id": "c24d46ce794efbc4"
  },
  {
   "cell_type": "code",
   "outputs": [],
   "source": [
    "# # ANNs Classifier\n",
    "from sklearn.neural_network import MLPClassifier\n",
    "ann = MLPClassifier(hidden_layer_sizes=(8, 8, 8), activation='logistic', solver='sgd',\n",
    "                    learning_rate_init=0.001, batch_size=128, max_iter=500)\n",
    "ann.fit(X_train, y_train)\n",
    "\n",
    "# # Test prediction\n",
    "y_pred = ann.predict(X_test)\n",
    "accuracy = accuracy_score(y_test, y_pred)\n",
    "print(\"ANNs Accuracy: \", accuracy)"
   ],
   "metadata": {
    "collapsed": false
   },
   "id": "47467b30904db3e6"
  }
 ],
 "metadata": {
  "kernelspec": {
   "display_name": "Python 3",
   "language": "python",
   "name": "python3"
  },
  "language_info": {
   "codemirror_mode": {
    "name": "ipython",
    "version": 2
   },
   "file_extension": ".py",
   "mimetype": "text/x-python",
   "name": "python",
   "nbconvert_exporter": "python",
   "pygments_lexer": "ipython2",
   "version": "2.7.6"
  }
 },
 "nbformat": 4,
 "nbformat_minor": 5
}
