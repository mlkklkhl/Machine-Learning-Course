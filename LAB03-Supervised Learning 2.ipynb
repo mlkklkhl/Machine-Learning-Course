{
 "cells": [
  {
   "cell_type": "markdown",
   "source": [
    "# Logistic Regression"
   ],
   "metadata": {
    "collapsed": false
   },
   "id": "732acf5ec04fa9b7"
  },
  {
   "cell_type": "code",
   "execution_count": null,
   "id": "initial_id",
   "metadata": {
    "collapsed": true
   },
   "outputs": [],
   "source": [
    "# # # Logistic Regression Classifier\n",
    "import pandas as pd\n",
    "from sklearn.linear_model import LogisticRegression\n",
    "from sklearn.model_selection import train_test_split\n",
    "from sklearn.metrics import accuracy_score\n",
    "\n",
    "# Load dataset\n",
    "df = pd.read_csv('data/diabetes.csv')\n",
    "print(df.head().to_string())\n",
    "\n",
    "# # Check data description\n",
    "print(df.describe(include='all').to_string())\n",
    "\n",
    "# # Splitting the dataset into features (input) and target (output, label)\n",
    "X = df.loc[:, df.columns != 'Outcome']\n",
    "y = df['Outcome']\n",
    "\n",
    "# # Logistic Regression Classifier training\n",
    "X_train, X_test, y_train, y_test = train_test_split(X, y, test_size=0.2, random_state=0)\n",
    "log_reg = LogisticRegression()\n",
    "log_reg.fit(X_train, y_train)\n",
    "\n",
    "# # Test prediction\n",
    "y_pred = log_reg.predict(X_test)\n",
    "accuracy = accuracy_score(y_test, y_pred)\n",
    "print(\"Accuracy: \", accuracy)"
   ]
  },
  {
   "cell_type": "markdown",
   "source": [
    "# Naive Bayes"
   ],
   "metadata": {
    "collapsed": false
   },
   "id": "1142f0b11b3edbad"
  },
  {
   "cell_type": "code",
   "outputs": [],
   "source": [
    "# # # Naive Bayes Classifier\n",
    "import pandas as pd\n",
    "from sklearn.naive_bayes import BernoulliNB\n",
    "from sklearn.model_selection import train_test_split\n",
    "from sklearn.metrics import accuracy_score\n",
    "\n",
    "# Load dataset\n",
    "df = pd.read_csv('data/loan_data.csv')\n",
    "print(df.head().to_string())\n",
    "\n",
    "# # Check data description\n",
    "print(df.describe(include='all').to_string())\n",
    "\n",
    "# # Handling Categorical Data using LabelEncoder\n",
    "from sklearn.preprocessing import LabelEncoder\n",
    "label_encoder = LabelEncoder()\n",
    "mapping = {}\n",
    "for i in df.columns:\n",
    "    if df[i].dtypes == 'object':\n",
    "        df[i] = label_encoder.fit_transform(df[i])\n",
    "        # add to mapping\n",
    "        mapping[i] = dict(zip(label_encoder.classes_, label_encoder.transform(label_encoder.classes_)))\n",
    "print(mapping)\n",
    "\n",
    "# # Splitting the dataset into features (input) and target (output, label)\n",
    "X = df.loc[:, df.columns != 'not.fully.paid']\n",
    "y = df['not.fully.paid']\n",
    "\n",
    "# # Naive Bayes Classifier training\n",
    "X_train, X_test, y_train, y_test = train_test_split(X, y, test_size=0.2, random_state=0)\n",
    "nb = BernoulliNB()\n",
    "nb.fit(X_train, y_train)\n",
    "\n",
    "# # Test prediction\n",
    "y_pred = nb.predict(X_test)\n",
    "accuracy = accuracy_score(y_test, y_pred)\n",
    "print(\"Accuracy: \", accuracy)"
   ],
   "metadata": {
    "collapsed": false
   },
   "id": "c567280eb466436c"
  },
  {
   "cell_type": "markdown",
   "source": [
    "# Decision Tree"
   ],
   "metadata": {
    "collapsed": false
   },
   "id": "8c05f0eaee1a3b60"
  },
  {
   "cell_type": "code",
   "outputs": [],
   "source": [
    "# # DecisionTreeClassifier\n",
    "import pandas as pd\n",
    "from sklearn.tree import DecisionTreeClassifier\n",
    "from sklearn.model_selection import train_test_split\n",
    "from sklearn.metrics import accuracy_score\n",
    "from sklearn.tree import export_graphviz\n",
    "from graphviz import Source\n",
    "\n",
    "# # Load dataset\n",
    "df = pd.read_csv('data/car_evaluation.csv')\n",
    "print(df.head().to_string())\n",
    "\n",
    "# # Check data description\n",
    "print(df.describe(include='all').to_string())\n",
    "\n",
    "# # Handling Categorical Data using LabelEncoder\n",
    "from sklearn.preprocessing import LabelEncoder\n",
    "label_encoder = LabelEncoder()\n",
    "\n",
    "mapping = {}\n",
    "for i in df.columns:\n",
    "    df[i] = label_encoder.fit_transform(df[i])\n",
    "    # add to mapping\n",
    "    mapping[i] = dict(zip(label_encoder.classes_, label_encoder.transform(label_encoder.classes_)))\n",
    "print(mapping)\n",
    "\n",
    "# # Splitting the dataset into features (input) and target (output, label)\n",
    "X = df[['BuyingPrice', 'MaintenancePrice', 'Doors', 'PersonsCapacity', 'LuggageBoot', 'Safety']]\n",
    "y = df['CarEvaluation']\n",
    "\n",
    "X_train, X_test, y_train, y_test = train_test_split(X, y, test_size=0.2, random_state=0)\n",
    "\n",
    "# # DecisionTreeClassifier training\n",
    "tree_clf = DecisionTreeClassifier(criterion='entropy', max_depth=3)\n",
    "tree_clf.fit(X_train, y_train)\n",
    "\n",
    "# # Plot tree_clf\n",
    "export_graphviz(tree_clf,\n",
    "      out_file='car_evaluation.dot',\n",
    "      feature_names=['BuyingPrice', 'MaintenancePrice', 'Doors', 'PersonsCapacity', 'LuggageBoot', 'Safety'],\n",
    "      class_names=['acceptable', 'good', 'unacceptable', 'very good'],\n",
    "      rounded=True, filled=True, impurity=True, proportion=True, special_characters=True)\n",
    "\n",
    "# download and install graphviz from https://graphviz.gitlab.io/_pages/Download/Download_windows.html\n",
    "Source.from_file('car_evaluation.dot', format='png').view()\n",
    "\n",
    "# # Test prediction\n",
    "y_pred = tree_clf.predict(X_test)\n",
    "accuracy = accuracy_score(y_test, y_pred)\n",
    "print(\"Accuracy: \", accuracy)\n",
    "\n",
    "# Manual Test\n",
    "# BuyingPrice, MaintenancePrice, Doors, PersonsCapacity, LuggageBoot, Safety, CarEvaluation\n",
    "test = ['low', 'low', '5more', 'more', 'big', 'high']\n",
    "X_test = []\n",
    "\n",
    "# convert test data to numerical using mapping from label encoder\n",
    "for i in X.columns:\n",
    "    X_test.append(list(mapping[i].values())[list(mapping[i].keys()).index(test[X.columns.get_loc(i)])])\n",
    "\n",
    "result = tree_clf.predict([X_test])\n",
    "print(\"result: \", list(mapping['CarEvaluation'].keys())[list(mapping['CarEvaluation'].values()).index(result)])"
   ],
   "metadata": {
    "collapsed": false
   },
   "id": "5437110c389b9f6f"
  }
 ],
 "metadata": {
  "kernelspec": {
   "display_name": "Python 3",
   "language": "python",
   "name": "python3"
  },
  "language_info": {
   "codemirror_mode": {
    "name": "ipython",
    "version": 2
   },
   "file_extension": ".py",
   "mimetype": "text/x-python",
   "name": "python",
   "nbconvert_exporter": "python",
   "pygments_lexer": "ipython2",
   "version": "2.7.6"
  }
 },
 "nbformat": 4,
 "nbformat_minor": 5
}
